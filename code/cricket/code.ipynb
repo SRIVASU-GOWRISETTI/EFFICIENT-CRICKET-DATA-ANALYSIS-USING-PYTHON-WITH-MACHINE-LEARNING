{
 "cells": [
  {
   "cell_type": "code",
   "execution_count": 1,
   "metadata": {
    "_cell_guid": "b1076dfc-b9ad-4769-8c92-a6c4dae69d19",
    "_uuid": "8f2839f25d086af736a60e9eeb907d3b93b6e0e5"
   },
   "outputs": [
    {
     "name": "stderr",
     "output_type": "stream",
     "text": [
      "WARNING: You are using pip version 22.0.4; however, version 22.1.2 is available.\n",
      "You should consider upgrading via the 'c:\\python\\python39\\python.exe -m pip install --upgrade pip' command.\n"
     ]
    },
    {
     "name": "stdout",
     "output_type": "stream",
     "text": [
      "Requirement already satisfied: plotly in c:\\python\\python39\\lib\\site-packages (5.7.0)\n",
      "Requirement already satisfied: tenacity>=6.2.0 in c:\\python\\python39\\lib\\site-packages (from plotly) (8.0.1)\n",
      "Requirement already satisfied: six in c:\\python\\python39\\lib\\site-packages (from plotly) (1.16.0)\n"
     ]
    },
    {
     "data": {
      "text/html": [
       "        <script type=\"text/javascript\">\n",
       "        window.PlotlyConfig = {MathJaxConfig: 'local'};\n",
       "        if (window.MathJax) {MathJax.Hub.Config({SVG: {font: \"STIX-Web\"}});}\n",
       "        if (typeof require !== 'undefined') {\n",
       "        require.undef(\"plotly\");\n",
       "        requirejs.config({\n",
       "            paths: {\n",
       "                'plotly': ['https://cdn.plot.ly/plotly-2.11.1.min']\n",
       "            }\n",
       "        });\n",
       "        require(['plotly'], function(Plotly) {\n",
       "            window._Plotly = Plotly;\n",
       "        });\n",
       "        }\n",
       "        </script>\n",
       "        "
      ]
     },
     "metadata": {},
     "output_type": "display_data"
    }
   ],
   "source": [
    "import numpy as np \n",
    "import pandas as pd \n",
    "import matplotlib.pyplot as plt \n",
    "import seaborn as sns \n",
    "import warnings\n",
    "warnings.filterwarnings('ignore')\n",
    "!pip install plotly\n",
    "\n",
    "\n",
    "import os\n",
    "import plotly.graph_objs as go\n",
    "import plotly.offline as py\n",
    "py.init_notebook_mode(connected=True)\n",
    "import plotly.tools as tls\n",
    "\n",
    "\n",
    "\n",
    "\n",
    "from sklearn.model_selection import train_test_split, GridSearchCV\n",
    "from sklearn.feature_extraction.text import CountVectorizer\n",
    "from sklearn.naive_bayes import MultinomialNB,GaussianNB\n",
    "from sklearn.metrics import accuracy_score,confusion_matrix,classification_report\n",
    "from sklearn.tree import DecisionTreeRegressor\n",
    "from sklearn import svm\n",
    "from sklearn.ensemble import RandomForestClassifier"
   ]
  },
  {
   "cell_type": "code",
   "execution_count": 2,
   "metadata": {
    "_cell_guid": "79c7e3d0-c299-4dcb-8224-4455121ee9b0",
    "_uuid": "d629ff2d2480ee46fbb7e2d37f6b5fab8052498a"
   },
   "outputs": [],
   "source": [
    "\n",
    "TRM=pd.read_csv(\"Trainmatches.csv\")\n",
    "TRM.index=TRM[\"id\"]\n",
    "TRD=pd.read_csv(\"TrainDeliveries.csv\")"
   ]
  },
  {
   "cell_type": "code",
   "execution_count": 3,
   "metadata": {
    "_cell_guid": "0dc48470-6cdc-4ecc-9d12-abf5357088f6",
    "_uuid": "4242580acd7e93e5609de2f48fc9103a18ffc3e0"
   },
   "outputs": [
    {
     "data": {
      "text/html": [
       "<div>\n",
       "<style scoped>\n",
       "    .dataframe tbody tr th:only-of-type {\n",
       "        vertical-align: middle;\n",
       "    }\n",
       "\n",
       "    .dataframe tbody tr th {\n",
       "        vertical-align: top;\n",
       "    }\n",
       "\n",
       "    .dataframe thead th {\n",
       "        text-align: right;\n",
       "    }\n",
       "</style>\n",
       "<table border=\"1\" class=\"dataframe\">\n",
       "  <thead>\n",
       "    <tr style=\"text-align: right;\">\n",
       "      <th></th>\n",
       "      <th>id</th>\n",
       "      <th>season</th>\n",
       "      <th>city</th>\n",
       "      <th>team1</th>\n",
       "      <th>team2</th>\n",
       "      <th>toss_winner</th>\n",
       "      <th>toss_decision</th>\n",
       "      <th>result</th>\n",
       "      <th>dl_applied</th>\n",
       "      <th>winner</th>\n",
       "      <th>win_by_runs</th>\n",
       "      <th>win_by_wickets</th>\n",
       "      <th>player_of_match</th>\n",
       "      <th>venue</th>\n",
       "    </tr>\n",
       "    <tr>\n",
       "      <th>id</th>\n",
       "      <th></th>\n",
       "      <th></th>\n",
       "      <th></th>\n",
       "      <th></th>\n",
       "      <th></th>\n",
       "      <th></th>\n",
       "      <th></th>\n",
       "      <th></th>\n",
       "      <th></th>\n",
       "      <th></th>\n",
       "      <th></th>\n",
       "      <th></th>\n",
       "      <th></th>\n",
       "      <th></th>\n",
       "    </tr>\n",
       "  </thead>\n",
       "  <tbody>\n",
       "    <tr>\n",
       "      <th>1</th>\n",
       "      <td>1</td>\n",
       "      <td>2017</td>\n",
       "      <td>City1</td>\n",
       "      <td>Team1</td>\n",
       "      <td>Team5</td>\n",
       "      <td>Team5</td>\n",
       "      <td>field</td>\n",
       "      <td>normal</td>\n",
       "      <td>0</td>\n",
       "      <td>Team1</td>\n",
       "      <td>35</td>\n",
       "      <td>0</td>\n",
       "      <td>Player 467</td>\n",
       "      <td>Stadium1</td>\n",
       "    </tr>\n",
       "    <tr>\n",
       "      <th>2</th>\n",
       "      <td>2</td>\n",
       "      <td>2017</td>\n",
       "      <td>City2</td>\n",
       "      <td>Team2</td>\n",
       "      <td>Team4</td>\n",
       "      <td>Team4</td>\n",
       "      <td>field</td>\n",
       "      <td>normal</td>\n",
       "      <td>0</td>\n",
       "      <td>Team4</td>\n",
       "      <td>0</td>\n",
       "      <td>7</td>\n",
       "      <td>Player 405</td>\n",
       "      <td>Stadium2</td>\n",
       "    </tr>\n",
       "    <tr>\n",
       "      <th>3</th>\n",
       "      <td>3</td>\n",
       "      <td>2017</td>\n",
       "      <td>City3</td>\n",
       "      <td>Team3</td>\n",
       "      <td>Team6</td>\n",
       "      <td>Team6</td>\n",
       "      <td>field</td>\n",
       "      <td>normal</td>\n",
       "      <td>0</td>\n",
       "      <td>Team6</td>\n",
       "      <td>0</td>\n",
       "      <td>10</td>\n",
       "      <td>Player 85</td>\n",
       "      <td>Stadium3</td>\n",
       "    </tr>\n",
       "    <tr>\n",
       "      <th>4</th>\n",
       "      <td>4</td>\n",
       "      <td>2017</td>\n",
       "      <td>City4</td>\n",
       "      <td>Team4</td>\n",
       "      <td>Team8</td>\n",
       "      <td>Team8</td>\n",
       "      <td>field</td>\n",
       "      <td>normal</td>\n",
       "      <td>0</td>\n",
       "      <td>Team8</td>\n",
       "      <td>0</td>\n",
       "      <td>6</td>\n",
       "      <td>Player 145</td>\n",
       "      <td>Stadium4</td>\n",
       "    </tr>\n",
       "    <tr>\n",
       "      <th>5</th>\n",
       "      <td>5</td>\n",
       "      <td>2017</td>\n",
       "      <td>City5</td>\n",
       "      <td>Team5</td>\n",
       "      <td>Team7</td>\n",
       "      <td>Team5</td>\n",
       "      <td>bat</td>\n",
       "      <td>normal</td>\n",
       "      <td>0</td>\n",
       "      <td>Team5</td>\n",
       "      <td>15</td>\n",
       "      <td>0</td>\n",
       "      <td>Player 209</td>\n",
       "      <td>Stadium5</td>\n",
       "    </tr>\n",
       "  </tbody>\n",
       "</table>\n",
       "</div>"
      ],
      "text/plain": [
       "    id  season   city  team1  team2 toss_winner toss_decision  result  \\\n",
       "id                                                                      \n",
       "1    1    2017  City1  Team1  Team5       Team5         field  normal   \n",
       "2    2    2017  City2  Team2  Team4       Team4         field  normal   \n",
       "3    3    2017  City3  Team3  Team6       Team6         field  normal   \n",
       "4    4    2017  City4  Team4  Team8       Team8         field  normal   \n",
       "5    5    2017  City5  Team5  Team7       Team5           bat  normal   \n",
       "\n",
       "    dl_applied winner  win_by_runs  win_by_wickets player_of_match     venue  \n",
       "id                                                                            \n",
       "1            0  Team1           35               0      Player 467  Stadium1  \n",
       "2            0  Team4            0               7      Player 405  Stadium2  \n",
       "3            0  Team6            0              10       Player 85  Stadium3  \n",
       "4            0  Team8            0               6      Player 145  Stadium4  \n",
       "5            0  Team5           15               0      Player 209  Stadium5  "
      ]
     },
     "execution_count": 3,
     "metadata": {},
     "output_type": "execute_result"
    }
   ],
   "source": [
    "TRM.head()"
   ]
  },
  {
   "cell_type": "code",
   "execution_count": 4,
   "metadata": {
    "_cell_guid": "4f166a42-994c-4c73-8d24-055dc4d11b90",
    "_uuid": "0fa5c065829927510d846259aacff1eedf62a888",
    "scrolled": true
   },
   "outputs": [
    {
     "data": {
      "application/vnd.plotly.v1+json": {
       "config": {
        "linkText": "Export to plot.ly",
        "plotlyServerURL": "https://plot.ly",
        "showLink": false
       },
       "data": [
        {
         "name": "Total Matches",
         "type": "bar",
         "x": [
          "Team2",
          "Team1",
          "Team5",
          "Team7",
          "Team6",
          "Team8",
          "Team10",
          "Team9",
          "Team4",
          "Team3",
          "Team11"
         ],
         "y": [
          122,
          117,
          117,
          116,
          115,
          113,
          109,
          101,
          62,
          14,
          14
         ]
        },
        {
         "name": "Matches Won",
         "type": "bar",
         "x": [
          "Team2",
          "Team1",
          "Team5",
          "Team7",
          "Team6",
          "Team8",
          "Team10",
          "Team9",
          "Team4",
          "Team3",
          "Team11"
         ],
         "y": [
          71,
          67,
          59,
          57,
          56,
          56,
          51,
          50,
          22,
          6,
          4
         ]
        }
       ],
       "layout": {
        "barmode": "stack",
        "template": {
         "data": {
          "bar": [
           {
            "error_x": {
             "color": "#2a3f5f"
            },
            "error_y": {
             "color": "#2a3f5f"
            },
            "marker": {
             "line": {
              "color": "#E5ECF6",
              "width": 0.5
             },
             "pattern": {
              "fillmode": "overlay",
              "size": 10,
              "solidity": 0.2
             }
            },
            "type": "bar"
           }
          ],
          "barpolar": [
           {
            "marker": {
             "line": {
              "color": "#E5ECF6",
              "width": 0.5
             },
             "pattern": {
              "fillmode": "overlay",
              "size": 10,
              "solidity": 0.2
             }
            },
            "type": "barpolar"
           }
          ],
          "carpet": [
           {
            "aaxis": {
             "endlinecolor": "#2a3f5f",
             "gridcolor": "white",
             "linecolor": "white",
             "minorgridcolor": "white",
             "startlinecolor": "#2a3f5f"
            },
            "baxis": {
             "endlinecolor": "#2a3f5f",
             "gridcolor": "white",
             "linecolor": "white",
             "minorgridcolor": "white",
             "startlinecolor": "#2a3f5f"
            },
            "type": "carpet"
           }
          ],
          "choropleth": [
           {
            "colorbar": {
             "outlinewidth": 0,
             "ticks": ""
            },
            "type": "choropleth"
           }
          ],
          "contour": [
           {
            "colorbar": {
             "outlinewidth": 0,
             "ticks": ""
            },
            "colorscale": [
             [
              0,
              "#0d0887"
             ],
             [
              0.1111111111111111,
              "#46039f"
             ],
             [
              0.2222222222222222,
              "#7201a8"
             ],
             [
              0.3333333333333333,
              "#9c179e"
             ],
             [
              0.4444444444444444,
              "#bd3786"
             ],
             [
              0.5555555555555556,
              "#d8576b"
             ],
             [
              0.6666666666666666,
              "#ed7953"
             ],
             [
              0.7777777777777778,
              "#fb9f3a"
             ],
             [
              0.8888888888888888,
              "#fdca26"
             ],
             [
              1,
              "#f0f921"
             ]
            ],
            "type": "contour"
           }
          ],
          "contourcarpet": [
           {
            "colorbar": {
             "outlinewidth": 0,
             "ticks": ""
            },
            "type": "contourcarpet"
           }
          ],
          "heatmap": [
           {
            "colorbar": {
             "outlinewidth": 0,
             "ticks": ""
            },
            "colorscale": [
             [
              0,
              "#0d0887"
             ],
             [
              0.1111111111111111,
              "#46039f"
             ],
             [
              0.2222222222222222,
              "#7201a8"
             ],
             [
              0.3333333333333333,
              "#9c179e"
             ],
             [
              0.4444444444444444,
              "#bd3786"
             ],
             [
              0.5555555555555556,
              "#d8576b"
             ],
             [
              0.6666666666666666,
              "#ed7953"
             ],
             [
              0.7777777777777778,
              "#fb9f3a"
             ],
             [
              0.8888888888888888,
              "#fdca26"
             ],
             [
              1,
              "#f0f921"
             ]
            ],
            "type": "heatmap"
           }
          ],
          "heatmapgl": [
           {
            "colorbar": {
             "outlinewidth": 0,
             "ticks": ""
            },
            "colorscale": [
             [
              0,
              "#0d0887"
             ],
             [
              0.1111111111111111,
              "#46039f"
             ],
             [
              0.2222222222222222,
              "#7201a8"
             ],
             [
              0.3333333333333333,
              "#9c179e"
             ],
             [
              0.4444444444444444,
              "#bd3786"
             ],
             [
              0.5555555555555556,
              "#d8576b"
             ],
             [
              0.6666666666666666,
              "#ed7953"
             ],
             [
              0.7777777777777778,
              "#fb9f3a"
             ],
             [
              0.8888888888888888,
              "#fdca26"
             ],
             [
              1,
              "#f0f921"
             ]
            ],
            "type": "heatmapgl"
           }
          ],
          "histogram": [
           {
            "marker": {
             "pattern": {
              "fillmode": "overlay",
              "size": 10,
              "solidity": 0.2
             }
            },
            "type": "histogram"
           }
          ],
          "histogram2d": [
           {
            "colorbar": {
             "outlinewidth": 0,
             "ticks": ""
            },
            "colorscale": [
             [
              0,
              "#0d0887"
             ],
             [
              0.1111111111111111,
              "#46039f"
             ],
             [
              0.2222222222222222,
              "#7201a8"
             ],
             [
              0.3333333333333333,
              "#9c179e"
             ],
             [
              0.4444444444444444,
              "#bd3786"
             ],
             [
              0.5555555555555556,
              "#d8576b"
             ],
             [
              0.6666666666666666,
              "#ed7953"
             ],
             [
              0.7777777777777778,
              "#fb9f3a"
             ],
             [
              0.8888888888888888,
              "#fdca26"
             ],
             [
              1,
              "#f0f921"
             ]
            ],
            "type": "histogram2d"
           }
          ],
          "histogram2dcontour": [
           {
            "colorbar": {
             "outlinewidth": 0,
             "ticks": ""
            },
            "colorscale": [
             [
              0,
              "#0d0887"
             ],
             [
              0.1111111111111111,
              "#46039f"
             ],
             [
              0.2222222222222222,
              "#7201a8"
             ],
             [
              0.3333333333333333,
              "#9c179e"
             ],
             [
              0.4444444444444444,
              "#bd3786"
             ],
             [
              0.5555555555555556,
              "#d8576b"
             ],
             [
              0.6666666666666666,
              "#ed7953"
             ],
             [
              0.7777777777777778,
              "#fb9f3a"
             ],
             [
              0.8888888888888888,
              "#fdca26"
             ],
             [
              1,
              "#f0f921"
             ]
            ],
            "type": "histogram2dcontour"
           }
          ],
          "mesh3d": [
           {
            "colorbar": {
             "outlinewidth": 0,
             "ticks": ""
            },
            "type": "mesh3d"
           }
          ],
          "parcoords": [
           {
            "line": {
             "colorbar": {
              "outlinewidth": 0,
              "ticks": ""
             }
            },
            "type": "parcoords"
           }
          ],
          "pie": [
           {
            "automargin": true,
            "type": "pie"
           }
          ],
          "scatter": [
           {
            "fillpattern": {
             "fillmode": "overlay",
             "size": 10,
             "solidity": 0.2
            },
            "type": "scatter"
           }
          ],
          "scatter3d": [
           {
            "line": {
             "colorbar": {
              "outlinewidth": 0,
              "ticks": ""
             }
            },
            "marker": {
             "colorbar": {
              "outlinewidth": 0,
              "ticks": ""
             }
            },
            "type": "scatter3d"
           }
          ],
          "scattercarpet": [
           {
            "marker": {
             "colorbar": {
              "outlinewidth": 0,
              "ticks": ""
             }
            },
            "type": "scattercarpet"
           }
          ],
          "scattergeo": [
           {
            "marker": {
             "colorbar": {
              "outlinewidth": 0,
              "ticks": ""
             }
            },
            "type": "scattergeo"
           }
          ],
          "scattergl": [
           {
            "marker": {
             "colorbar": {
              "outlinewidth": 0,
              "ticks": ""
             }
            },
            "type": "scattergl"
           }
          ],
          "scattermapbox": [
           {
            "marker": {
             "colorbar": {
              "outlinewidth": 0,
              "ticks": ""
             }
            },
            "type": "scattermapbox"
           }
          ],
          "scatterpolar": [
           {
            "marker": {
             "colorbar": {
              "outlinewidth": 0,
              "ticks": ""
             }
            },
            "type": "scatterpolar"
           }
          ],
          "scatterpolargl": [
           {
            "marker": {
             "colorbar": {
              "outlinewidth": 0,
              "ticks": ""
             }
            },
            "type": "scatterpolargl"
           }
          ],
          "scatterternary": [
           {
            "marker": {
             "colorbar": {
              "outlinewidth": 0,
              "ticks": ""
             }
            },
            "type": "scatterternary"
           }
          ],
          "surface": [
           {
            "colorbar": {
             "outlinewidth": 0,
             "ticks": ""
            },
            "colorscale": [
             [
              0,
              "#0d0887"
             ],
             [
              0.1111111111111111,
              "#46039f"
             ],
             [
              0.2222222222222222,
              "#7201a8"
             ],
             [
              0.3333333333333333,
              "#9c179e"
             ],
             [
              0.4444444444444444,
              "#bd3786"
             ],
             [
              0.5555555555555556,
              "#d8576b"
             ],
             [
              0.6666666666666666,
              "#ed7953"
             ],
             [
              0.7777777777777778,
              "#fb9f3a"
             ],
             [
              0.8888888888888888,
              "#fdca26"
             ],
             [
              1,
              "#f0f921"
             ]
            ],
            "type": "surface"
           }
          ],
          "table": [
           {
            "cells": {
             "fill": {
              "color": "#EBF0F8"
             },
             "line": {
              "color": "white"
             }
            },
            "header": {
             "fill": {
              "color": "#C8D4E3"
             },
             "line": {
              "color": "white"
             }
            },
            "type": "table"
           }
          ]
         },
         "layout": {
          "annotationdefaults": {
           "arrowcolor": "#2a3f5f",
           "arrowhead": 0,
           "arrowwidth": 1
          },
          "autotypenumbers": "strict",
          "coloraxis": {
           "colorbar": {
            "outlinewidth": 0,
            "ticks": ""
           }
          },
          "colorscale": {
           "diverging": [
            [
             0,
             "#8e0152"
            ],
            [
             0.1,
             "#c51b7d"
            ],
            [
             0.2,
             "#de77ae"
            ],
            [
             0.3,
             "#f1b6da"
            ],
            [
             0.4,
             "#fde0ef"
            ],
            [
             0.5,
             "#f7f7f7"
            ],
            [
             0.6,
             "#e6f5d0"
            ],
            [
             0.7,
             "#b8e186"
            ],
            [
             0.8,
             "#7fbc41"
            ],
            [
             0.9,
             "#4d9221"
            ],
            [
             1,
             "#276419"
            ]
           ],
           "sequential": [
            [
             0,
             "#0d0887"
            ],
            [
             0.1111111111111111,
             "#46039f"
            ],
            [
             0.2222222222222222,
             "#7201a8"
            ],
            [
             0.3333333333333333,
             "#9c179e"
            ],
            [
             0.4444444444444444,
             "#bd3786"
            ],
            [
             0.5555555555555556,
             "#d8576b"
            ],
            [
             0.6666666666666666,
             "#ed7953"
            ],
            [
             0.7777777777777778,
             "#fb9f3a"
            ],
            [
             0.8888888888888888,
             "#fdca26"
            ],
            [
             1,
             "#f0f921"
            ]
           ],
           "sequentialminus": [
            [
             0,
             "#0d0887"
            ],
            [
             0.1111111111111111,
             "#46039f"
            ],
            [
             0.2222222222222222,
             "#7201a8"
            ],
            [
             0.3333333333333333,
             "#9c179e"
            ],
            [
             0.4444444444444444,
             "#bd3786"
            ],
            [
             0.5555555555555556,
             "#d8576b"
            ],
            [
             0.6666666666666666,
             "#ed7953"
            ],
            [
             0.7777777777777778,
             "#fb9f3a"
            ],
            [
             0.8888888888888888,
             "#fdca26"
            ],
            [
             1,
             "#f0f921"
            ]
           ]
          },
          "colorway": [
           "#636efa",
           "#EF553B",
           "#00cc96",
           "#ab63fa",
           "#FFA15A",
           "#19d3f3",
           "#FF6692",
           "#B6E880",
           "#FF97FF",
           "#FECB52"
          ],
          "font": {
           "color": "#2a3f5f"
          },
          "geo": {
           "bgcolor": "white",
           "lakecolor": "white",
           "landcolor": "#E5ECF6",
           "showlakes": true,
           "showland": true,
           "subunitcolor": "white"
          },
          "hoverlabel": {
           "align": "left"
          },
          "hovermode": "closest",
          "mapbox": {
           "style": "light"
          },
          "paper_bgcolor": "white",
          "plot_bgcolor": "#E5ECF6",
          "polar": {
           "angularaxis": {
            "gridcolor": "white",
            "linecolor": "white",
            "ticks": ""
           },
           "bgcolor": "#E5ECF6",
           "radialaxis": {
            "gridcolor": "white",
            "linecolor": "white",
            "ticks": ""
           }
          },
          "scene": {
           "xaxis": {
            "backgroundcolor": "#E5ECF6",
            "gridcolor": "white",
            "gridwidth": 2,
            "linecolor": "white",
            "showbackground": true,
            "ticks": "",
            "zerolinecolor": "white"
           },
           "yaxis": {
            "backgroundcolor": "#E5ECF6",
            "gridcolor": "white",
            "gridwidth": 2,
            "linecolor": "white",
            "showbackground": true,
            "ticks": "",
            "zerolinecolor": "white"
           },
           "zaxis": {
            "backgroundcolor": "#E5ECF6",
            "gridcolor": "white",
            "gridwidth": 2,
            "linecolor": "white",
            "showbackground": true,
            "ticks": "",
            "zerolinecolor": "white"
           }
          },
          "shapedefaults": {
           "line": {
            "color": "#2a3f5f"
           }
          },
          "ternary": {
           "aaxis": {
            "gridcolor": "white",
            "linecolor": "white",
            "ticks": ""
           },
           "baxis": {
            "gridcolor": "white",
            "linecolor": "white",
            "ticks": ""
           },
           "bgcolor": "#E5ECF6",
           "caxis": {
            "gridcolor": "white",
            "linecolor": "white",
            "ticks": ""
           }
          },
          "title": {
           "x": 0.05
          },
          "xaxis": {
           "automargin": true,
           "gridcolor": "white",
           "linecolor": "white",
           "ticks": "",
           "title": {
            "standoff": 15
           },
           "zerolinecolor": "white",
           "zerolinewidth": 2
          },
          "yaxis": {
           "automargin": true,
           "gridcolor": "white",
           "linecolor": "white",
           "ticks": "",
           "title": {
            "standoff": 15
           },
           "zerolinecolor": "white",
           "zerolinewidth": 2
          }
         }
        }
       }
      },
      "text/html": [
       "<div>                            <div id=\"3a1068a5-59e9-4a28-ab3f-6680cbef7255\" class=\"plotly-graph-div\" style=\"height:525px; width:100%;\"></div>            <script type=\"text/javascript\">                require([\"plotly\"], function(Plotly) {                    window.PLOTLYENV=window.PLOTLYENV || {};                                    if (document.getElementById(\"3a1068a5-59e9-4a28-ab3f-6680cbef7255\")) {                    Plotly.newPlot(                        \"3a1068a5-59e9-4a28-ab3f-6680cbef7255\",                        [{\"name\":\"Total Matches\",\"x\":[\"Team2\",\"Team1\",\"Team5\",\"Team7\",\"Team6\",\"Team8\",\"Team10\",\"Team9\",\"Team4\",\"Team3\",\"Team11\"],\"y\":[122,117,117,116,115,113,109,101,62,14,14],\"type\":\"bar\"},{\"name\":\"Matches Won\",\"x\":[\"Team2\",\"Team1\",\"Team5\",\"Team7\",\"Team6\",\"Team8\",\"Team10\",\"Team9\",\"Team4\",\"Team3\",\"Team11\"],\"y\":[71,67,59,57,56,56,51,50,22,6,4],\"type\":\"bar\"}],                        {\"barmode\":\"stack\",\"template\":{\"data\":{\"barpolar\":[{\"marker\":{\"line\":{\"color\":\"#E5ECF6\",\"width\":0.5},\"pattern\":{\"fillmode\":\"overlay\",\"size\":10,\"solidity\":0.2}},\"type\":\"barpolar\"}],\"bar\":[{\"error_x\":{\"color\":\"#2a3f5f\"},\"error_y\":{\"color\":\"#2a3f5f\"},\"marker\":{\"line\":{\"color\":\"#E5ECF6\",\"width\":0.5},\"pattern\":{\"fillmode\":\"overlay\",\"size\":10,\"solidity\":0.2}},\"type\":\"bar\"}],\"carpet\":[{\"aaxis\":{\"endlinecolor\":\"#2a3f5f\",\"gridcolor\":\"white\",\"linecolor\":\"white\",\"minorgridcolor\":\"white\",\"startlinecolor\":\"#2a3f5f\"},\"baxis\":{\"endlinecolor\":\"#2a3f5f\",\"gridcolor\":\"white\",\"linecolor\":\"white\",\"minorgridcolor\":\"white\",\"startlinecolor\":\"#2a3f5f\"},\"type\":\"carpet\"}],\"choropleth\":[{\"colorbar\":{\"outlinewidth\":0,\"ticks\":\"\"},\"type\":\"choropleth\"}],\"contourcarpet\":[{\"colorbar\":{\"outlinewidth\":0,\"ticks\":\"\"},\"type\":\"contourcarpet\"}],\"contour\":[{\"colorbar\":{\"outlinewidth\":0,\"ticks\":\"\"},\"colorscale\":[[0.0,\"#0d0887\"],[0.1111111111111111,\"#46039f\"],[0.2222222222222222,\"#7201a8\"],[0.3333333333333333,\"#9c179e\"],[0.4444444444444444,\"#bd3786\"],[0.5555555555555556,\"#d8576b\"],[0.6666666666666666,\"#ed7953\"],[0.7777777777777778,\"#fb9f3a\"],[0.8888888888888888,\"#fdca26\"],[1.0,\"#f0f921\"]],\"type\":\"contour\"}],\"heatmapgl\":[{\"colorbar\":{\"outlinewidth\":0,\"ticks\":\"\"},\"colorscale\":[[0.0,\"#0d0887\"],[0.1111111111111111,\"#46039f\"],[0.2222222222222222,\"#7201a8\"],[0.3333333333333333,\"#9c179e\"],[0.4444444444444444,\"#bd3786\"],[0.5555555555555556,\"#d8576b\"],[0.6666666666666666,\"#ed7953\"],[0.7777777777777778,\"#fb9f3a\"],[0.8888888888888888,\"#fdca26\"],[1.0,\"#f0f921\"]],\"type\":\"heatmapgl\"}],\"heatmap\":[{\"colorbar\":{\"outlinewidth\":0,\"ticks\":\"\"},\"colorscale\":[[0.0,\"#0d0887\"],[0.1111111111111111,\"#46039f\"],[0.2222222222222222,\"#7201a8\"],[0.3333333333333333,\"#9c179e\"],[0.4444444444444444,\"#bd3786\"],[0.5555555555555556,\"#d8576b\"],[0.6666666666666666,\"#ed7953\"],[0.7777777777777778,\"#fb9f3a\"],[0.8888888888888888,\"#fdca26\"],[1.0,\"#f0f921\"]],\"type\":\"heatmap\"}],\"histogram2dcontour\":[{\"colorbar\":{\"outlinewidth\":0,\"ticks\":\"\"},\"colorscale\":[[0.0,\"#0d0887\"],[0.1111111111111111,\"#46039f\"],[0.2222222222222222,\"#7201a8\"],[0.3333333333333333,\"#9c179e\"],[0.4444444444444444,\"#bd3786\"],[0.5555555555555556,\"#d8576b\"],[0.6666666666666666,\"#ed7953\"],[0.7777777777777778,\"#fb9f3a\"],[0.8888888888888888,\"#fdca26\"],[1.0,\"#f0f921\"]],\"type\":\"histogram2dcontour\"}],\"histogram2d\":[{\"colorbar\":{\"outlinewidth\":0,\"ticks\":\"\"},\"colorscale\":[[0.0,\"#0d0887\"],[0.1111111111111111,\"#46039f\"],[0.2222222222222222,\"#7201a8\"],[0.3333333333333333,\"#9c179e\"],[0.4444444444444444,\"#bd3786\"],[0.5555555555555556,\"#d8576b\"],[0.6666666666666666,\"#ed7953\"],[0.7777777777777778,\"#fb9f3a\"],[0.8888888888888888,\"#fdca26\"],[1.0,\"#f0f921\"]],\"type\":\"histogram2d\"}],\"histogram\":[{\"marker\":{\"pattern\":{\"fillmode\":\"overlay\",\"size\":10,\"solidity\":0.2}},\"type\":\"histogram\"}],\"mesh3d\":[{\"colorbar\":{\"outlinewidth\":0,\"ticks\":\"\"},\"type\":\"mesh3d\"}],\"parcoords\":[{\"line\":{\"colorbar\":{\"outlinewidth\":0,\"ticks\":\"\"}},\"type\":\"parcoords\"}],\"pie\":[{\"automargin\":true,\"type\":\"pie\"}],\"scatter3d\":[{\"line\":{\"colorbar\":{\"outlinewidth\":0,\"ticks\":\"\"}},\"marker\":{\"colorbar\":{\"outlinewidth\":0,\"ticks\":\"\"}},\"type\":\"scatter3d\"}],\"scattercarpet\":[{\"marker\":{\"colorbar\":{\"outlinewidth\":0,\"ticks\":\"\"}},\"type\":\"scattercarpet\"}],\"scattergeo\":[{\"marker\":{\"colorbar\":{\"outlinewidth\":0,\"ticks\":\"\"}},\"type\":\"scattergeo\"}],\"scattergl\":[{\"marker\":{\"colorbar\":{\"outlinewidth\":0,\"ticks\":\"\"}},\"type\":\"scattergl\"}],\"scattermapbox\":[{\"marker\":{\"colorbar\":{\"outlinewidth\":0,\"ticks\":\"\"}},\"type\":\"scattermapbox\"}],\"scatterpolargl\":[{\"marker\":{\"colorbar\":{\"outlinewidth\":0,\"ticks\":\"\"}},\"type\":\"scatterpolargl\"}],\"scatterpolar\":[{\"marker\":{\"colorbar\":{\"outlinewidth\":0,\"ticks\":\"\"}},\"type\":\"scatterpolar\"}],\"scatter\":[{\"fillpattern\":{\"fillmode\":\"overlay\",\"size\":10,\"solidity\":0.2},\"type\":\"scatter\"}],\"scatterternary\":[{\"marker\":{\"colorbar\":{\"outlinewidth\":0,\"ticks\":\"\"}},\"type\":\"scatterternary\"}],\"surface\":[{\"colorbar\":{\"outlinewidth\":0,\"ticks\":\"\"},\"colorscale\":[[0.0,\"#0d0887\"],[0.1111111111111111,\"#46039f\"],[0.2222222222222222,\"#7201a8\"],[0.3333333333333333,\"#9c179e\"],[0.4444444444444444,\"#bd3786\"],[0.5555555555555556,\"#d8576b\"],[0.6666666666666666,\"#ed7953\"],[0.7777777777777778,\"#fb9f3a\"],[0.8888888888888888,\"#fdca26\"],[1.0,\"#f0f921\"]],\"type\":\"surface\"}],\"table\":[{\"cells\":{\"fill\":{\"color\":\"#EBF0F8\"},\"line\":{\"color\":\"white\"}},\"header\":{\"fill\":{\"color\":\"#C8D4E3\"},\"line\":{\"color\":\"white\"}},\"type\":\"table\"}]},\"layout\":{\"annotationdefaults\":{\"arrowcolor\":\"#2a3f5f\",\"arrowhead\":0,\"arrowwidth\":1},\"autotypenumbers\":\"strict\",\"coloraxis\":{\"colorbar\":{\"outlinewidth\":0,\"ticks\":\"\"}},\"colorscale\":{\"diverging\":[[0,\"#8e0152\"],[0.1,\"#c51b7d\"],[0.2,\"#de77ae\"],[0.3,\"#f1b6da\"],[0.4,\"#fde0ef\"],[0.5,\"#f7f7f7\"],[0.6,\"#e6f5d0\"],[0.7,\"#b8e186\"],[0.8,\"#7fbc41\"],[0.9,\"#4d9221\"],[1,\"#276419\"]],\"sequential\":[[0.0,\"#0d0887\"],[0.1111111111111111,\"#46039f\"],[0.2222222222222222,\"#7201a8\"],[0.3333333333333333,\"#9c179e\"],[0.4444444444444444,\"#bd3786\"],[0.5555555555555556,\"#d8576b\"],[0.6666666666666666,\"#ed7953\"],[0.7777777777777778,\"#fb9f3a\"],[0.8888888888888888,\"#fdca26\"],[1.0,\"#f0f921\"]],\"sequentialminus\":[[0.0,\"#0d0887\"],[0.1111111111111111,\"#46039f\"],[0.2222222222222222,\"#7201a8\"],[0.3333333333333333,\"#9c179e\"],[0.4444444444444444,\"#bd3786\"],[0.5555555555555556,\"#d8576b\"],[0.6666666666666666,\"#ed7953\"],[0.7777777777777778,\"#fb9f3a\"],[0.8888888888888888,\"#fdca26\"],[1.0,\"#f0f921\"]]},\"colorway\":[\"#636efa\",\"#EF553B\",\"#00cc96\",\"#ab63fa\",\"#FFA15A\",\"#19d3f3\",\"#FF6692\",\"#B6E880\",\"#FF97FF\",\"#FECB52\"],\"font\":{\"color\":\"#2a3f5f\"},\"geo\":{\"bgcolor\":\"white\",\"lakecolor\":\"white\",\"landcolor\":\"#E5ECF6\",\"showlakes\":true,\"showland\":true,\"subunitcolor\":\"white\"},\"hoverlabel\":{\"align\":\"left\"},\"hovermode\":\"closest\",\"mapbox\":{\"style\":\"light\"},\"paper_bgcolor\":\"white\",\"plot_bgcolor\":\"#E5ECF6\",\"polar\":{\"angularaxis\":{\"gridcolor\":\"white\",\"linecolor\":\"white\",\"ticks\":\"\"},\"bgcolor\":\"#E5ECF6\",\"radialaxis\":{\"gridcolor\":\"white\",\"linecolor\":\"white\",\"ticks\":\"\"}},\"scene\":{\"xaxis\":{\"backgroundcolor\":\"#E5ECF6\",\"gridcolor\":\"white\",\"gridwidth\":2,\"linecolor\":\"white\",\"showbackground\":true,\"ticks\":\"\",\"zerolinecolor\":\"white\"},\"yaxis\":{\"backgroundcolor\":\"#E5ECF6\",\"gridcolor\":\"white\",\"gridwidth\":2,\"linecolor\":\"white\",\"showbackground\":true,\"ticks\":\"\",\"zerolinecolor\":\"white\"},\"zaxis\":{\"backgroundcolor\":\"#E5ECF6\",\"gridcolor\":\"white\",\"gridwidth\":2,\"linecolor\":\"white\",\"showbackground\":true,\"ticks\":\"\",\"zerolinecolor\":\"white\"}},\"shapedefaults\":{\"line\":{\"color\":\"#2a3f5f\"}},\"ternary\":{\"aaxis\":{\"gridcolor\":\"white\",\"linecolor\":\"white\",\"ticks\":\"\"},\"baxis\":{\"gridcolor\":\"white\",\"linecolor\":\"white\",\"ticks\":\"\"},\"bgcolor\":\"#E5ECF6\",\"caxis\":{\"gridcolor\":\"white\",\"linecolor\":\"white\",\"ticks\":\"\"}},\"title\":{\"x\":0.05},\"xaxis\":{\"automargin\":true,\"gridcolor\":\"white\",\"linecolor\":\"white\",\"ticks\":\"\",\"title\":{\"standoff\":15},\"zerolinecolor\":\"white\",\"zerolinewidth\":2},\"yaxis\":{\"automargin\":true,\"gridcolor\":\"white\",\"linecolor\":\"white\",\"ticks\":\"\",\"title\":{\"standoff\":15},\"zerolinecolor\":\"white\",\"zerolinewidth\":2}}}},                        {\"responsive\": true}                    ).then(function(){\n",
       "                            \n",
       "var gd = document.getElementById('3a1068a5-59e9-4a28-ab3f-6680cbef7255');\n",
       "var x = new MutationObserver(function (mutations, observer) {{\n",
       "        var display = window.getComputedStyle(gd).display;\n",
       "        if (!display || display === 'none') {{\n",
       "            console.log([gd, 'removed!']);\n",
       "            Plotly.purge(gd);\n",
       "            observer.disconnect();\n",
       "        }}\n",
       "}});\n",
       "\n",
       "// Listen for the removal of the full notebook cells\n",
       "var notebookContainer = gd.closest('#notebook-container');\n",
       "if (notebookContainer) {{\n",
       "    x.observe(notebookContainer, {childList: true});\n",
       "}}\n",
       "\n",
       "// Listen for the clearing of the current output cell\n",
       "var outputEl = gd.closest('.output');\n",
       "if (outputEl) {{\n",
       "    x.observe(outputEl, {childList: true});\n",
       "}}\n",
       "\n",
       "                        })                };                });            </script>        </div>"
      ]
     },
     "metadata": {},
     "output_type": "display_data"
    }
   ],
   "source": [
    "matches_played_byteams=pd.concat([TRM['team1'],TRM['team2']])\n",
    "matches_played_byteams=matches_played_byteams.value_counts().reset_index()\n",
    "matches_played_byteams.columns=['Team','Total Matches']\n",
    "matches_played_byteams['wins']=TRM['winner'].value_counts().reset_index()['winner']\n",
    "matches_played_byteams.set_index('Team',inplace=True)\n",
    "\n",
    "trace1 = go.Bar(\n",
    "    x=matches_played_byteams.index,\n",
    "    y=matches_played_byteams['Total Matches'],\n",
    "    name='Total Matches'\n",
    ")\n",
    "trace2 = go.Bar(\n",
    "    x=matches_played_byteams.index,\n",
    "    y=matches_played_byteams['wins'],\n",
    "    name='Matches Won'\n",
    ")\n",
    "\n",
    "data = [trace1, trace2]\n",
    "layout = go.Layout(\n",
    "    barmode='stack'\n",
    ")\n",
    "\n",
    "fig = go.Figure(data=data, layout=layout)\n",
    "py.iplot(fig, filename='stacked-bar')\n"
   ]
  },
  {
   "cell_type": "code",
   "execution_count": 5,
   "metadata": {
    "_cell_guid": "e91234f4-5d89-4350-92a4-ba20bb5fd8b4",
    "_uuid": "6eb67360ac4f07dcd6a6e938e8d92715c470a3c1"
   },
   "outputs": [
    {
     "name": "stdout",
     "output_type": "stream",
     "text": [
      "Total Matches Played: 500\n"
     ]
    }
   ],
   "source": [
    "\n",
    "FT=pd.DataFrame()\n",
    "\n",
    "\n",
    "FT[\"match_id\"]=TRM[\"id\"]\n",
    "FT.index=FT[\"match_id\"]\n",
    "\n",
    "print('Total Matches Played:',TRM.shape[0])"
   ]
  },
  {
   "cell_type": "code",
   "execution_count": 6,
   "metadata": {
    "_cell_guid": "61ee3f27-2209-4400-bf9c-b876b593c985",
    "_uuid": "b7f200e7737fe9ca46a049c5779cff01b0e68abf"
   },
   "outputs": [
    {
     "name": "stdout",
     "output_type": "stream",
     "text": [
      "Teams: ['Team1' 'Team2' 'Team3' 'Team4' 'Team5' 'Team6' 'Team7' 'Team8' 'Team10'\n",
      " 'Team9' 'Team11']\n"
     ]
    }
   ],
   "source": [
    "\n",
    "FT[\"Team A\"]=TRM[\"team1\"]\n",
    "FT[\"Team B\"]=TRM[\"team2\"]\n",
    "FT = FT.drop('match_id', 1)\n",
    "print('Teams:',FT['Team A'].unique())"
   ]
  },
  {
   "cell_type": "code",
   "execution_count": 7,
   "metadata": {
    "_cell_guid": "2a42c967-a33a-4dd0-be94-530ccfb2556d",
    "_uuid": "ad1bd3c41b2fd425233ba1af8ade6594bf36c6e6"
   },
   "outputs": [
    {
     "data": {
      "text/plain": [
       "<Figure size 576x288 with 0 Axes>"
      ]
     },
     "metadata": {},
     "output_type": "display_data"
    },
    {
     "data": {
      "image/png": "[encoded data removed]",
      "text/plain": [
       "<Figure size 432x288 with 1 Axes>"
      ]
     },
     "metadata": {
      "needs_background": "light"
     },
     "output_type": "display_data"
    },
    {
     "data": {
      "text/plain": [
       "<Figure size 576x288 with 0 Axes>"
      ]
     },
     "metadata": {},
     "output_type": "display_data"
    },
    {
     "data": {
      "image/png": "[encoded data removed]",
      "text/plain": [
       "<Figure size 432x288 with 1 Axes>"
      ]
     },
     "metadata": {
      "needs_background": "light"
     },
     "output_type": "display_data"
    },
    {
     "data": {
      "text/plain": [
       "<Figure size 576x288 with 0 Axes>"
      ]
     },
     "metadata": {},
     "output_type": "display_data"
    },
    {
     "data": {
      "image/png": "[encoded data removed]",
      "text/plain": [
       "<Figure size 432x288 with 1 Axes>"
      ]
     },
     "metadata": {
      "needs_background": "light"
     },
     "output_type": "display_data"
    },
    {
     "data": {
      "text/plain": [
       "<Figure size 576x288 with 0 Axes>"
      ]
     },
     "metadata": {},
     "output_type": "display_data"
    },
    {
     "data": {
      "image/png": "[encoded data removed]",
      "text/plain": [
       "<Figure size 432x288 with 1 Axes>"
      ]
     },
     "metadata": {
      "needs_background": "light"
     },
     "output_type": "display_data"
    },
    {
     "data": {
      "text/plain": [
       "<Figure size 576x288 with 0 Axes>"
      ]
     },
     "metadata": {},
     "output_type": "display_data"
    },
    {
     "data": {
      "image/png": "[encoded data removed]",
      "text/plain": [
       "<Figure size 432x288 with 1 Axes>"
      ]
     },
     "metadata": {
      "needs_background": "light"
     },
     "output_type": "display_data"
    },
    {
     "data": {
      "text/plain": [
       "<Figure size 576x288 with 0 Axes>"
      ]
     },
     "metadata": {},
     "output_type": "display_data"
    },
    {
     "data": {
      "image/png": "[encoded data removed]",
      "text/plain": [
       "<Figure size 432x288 with 1 Axes>"
      ]
     },
     "metadata": {
      "needs_background": "light"
     },
     "output_type": "display_data"
    },
    {
     "data": {
      "text/plain": [
       "<Figure size 576x288 with 0 Axes>"
      ]
     },
     "metadata": {},
     "output_type": "display_data"
    },
    {
     "data": {
      "image/png": "[encoded data removed]",
      "text/plain": [
       "<Figure size 432x288 with 1 Axes>"
      ]
     },
     "metadata": {
      "needs_background": "light"
     },
     "output_type": "display_data"
    },
    {
     "data": {
      "text/plain": [
       "<Figure size 576x288 with 0 Axes>"
      ]
     },
     "metadata": {},
     "output_type": "display_data"
    },
    {
     "data": {
      "image/png": "[encoded data removed]",
      "text/plain": [
       "<Figure size 432x288 with 1 Axes>"
      ]
     },
     "metadata": {
      "needs_background": "light"
     },
     "output_type": "display_data"
    }
   ],
   "source": [
    "\n",
    "FT[\"season\"]=TRM[\"season\"]\n",
    "FT[\"winner\"]=TRM[\"winner\"]\n",
    "\n",
    "\n",
    "season_list=FT['season'].unique()\n",
    "team_list=FT['Team A'].unique()\n",
    "\n",
    "\n",
    "\n",
    "temp_data=pd.DataFrame()  \n",
    "temp_data[\"Team\"]=team_list\n",
    "temp_data.index=temp_data[\"Team\"]\n",
    "\n",
    "for s in season_list:\n",
    "    winner_season=FT.loc[FT['season']== s,\"winner\"] \n",
    "    t=winner_season.value_counts() \n",
    "    t=t.to_frame() \n",
    "    temp_data[\"win_count\"]=t[\"winner\"] \n",
    "    temp_data['win_count']=temp_data['win_count'].fillna(0)\n",
    "    temp_data['win_count']=temp_data['win_count'].astype(int)\n",
    "    tit=\"season \"+str(s)\n",
    "    fig = plt.figure(figsize=(8,4))\n",
    "    temp_data.plot(kind='bar',title=tit)"
   ]
  },
  {
   "cell_type": "code",
   "execution_count": 8,
   "metadata": {
    "_cell_guid": "3eaf5d5e-0cce-45de-a23b-8d4638043909",
    "_uuid": "f6906c434ad174fa2fc6856ae620864a4aea0f79"
   },
   "outputs": [],
   "source": [
    "FT = FT.drop('winner', 1)"
   ]
  },
  {
   "cell_type": "code",
   "execution_count": 9,
   "metadata": {
    "_cell_guid": "e9dcf50a-3daa-431a-9831-64d119c80eb6",
    "_uuid": "c2cfd34989b8b2c33dad1d66506dca346acc3524",
    "scrolled": true
   },
   "outputs": [
    {
     "data": {
      "image/png": "[encoded data removed]",
      "text/plain": [
       "<Figure size 576x432 with 1 Axes>"
      ]
     },
     "metadata": {
      "needs_background": "light"
     },
     "output_type": "display_data"
    },
    {
     "data": {
      "image/png": "[encoded data removed]",
      "text/plain": [
       "<Figure size 576x432 with 1 Axes>"
      ]
     },
     "metadata": {
      "needs_background": "light"
     },
     "output_type": "display_data"
    }
   ],
   "source": [
    "teams=['Team1','Team2','Team3','Team4','Team5','Team6','Team7','Team8','Team9','Team10','Team11']\n",
    "t=pd.Series(teams)\n",
    "\n",
    "temp_toss_winner=pd.DataFrame()\n",
    "temp_toss_winner['Team']=t.values\n",
    "temp_match_winner=pd.DataFrame()\n",
    "temp_match_winner['Team']=t.values\n",
    "\n",
    "temp_toss_winner['Count'] = temp_toss_winner['Team'].map(TRM['toss_winner'].value_counts())\n",
    "temp_match_winner['Count']=temp_match_winner['Team'].map(TRM['winner'].value_counts())\n",
    "\n",
    "plt.subplots(figsize=(8,6))\n",
    "ax=TRM['toss_winner'].value_counts().plot.bar(width=0.8)\n",
    "for p in ax.patches:\n",
    "    ax.annotate(format(p.get_height()), (p.get_x()+0.15, p.get_height()+1))\n",
    "plt.title(\"Toss Winner\")\n",
    "plt.show()\n",
    "\n",
    "plt.subplots(figsize=(8,6))\n",
    "ax=TRM['winner'].value_counts().plot.bar(width=0.8)\n",
    "for p in ax.patches:\n",
    "    ax.annotate(format(p.get_height()), (p.get_x()+0.15, p.get_height()+1))\n",
    "plt.title(\"Match Winner\")\n",
    "plt.show()"
   ]
  },
  {
   "cell_type": "code",
   "execution_count": 10,
   "metadata": {
    "_cell_guid": "6e277e4c-7c73-4924-b441-ea215edab64b",
    "_uuid": "57c3fe9e0fa4f25a9f0e6fcb56ce6ff72e7033cc"
   },
   "outputs": [
    {
     "data": {
      "image/png": "[encoded data removed]",
      "text/plain": [
       "<Figure size 432x432 with 1 Axes>"
      ]
     },
     "metadata": {},
     "output_type": "display_data"
    }
   ],
   "source": [
    "df=TRM[TRM['toss_winner']==TRM['winner']]\n",
    "slices=[len(df),(577-len(df))]\n",
    "labels=['yes','no']\n",
    "plt.pie(slices,labels=labels,startangle=90,shadow=True,explode=(0,0),autopct='%1.1f%%',colors=['r','g'])\n",
    "fig = plt.gcf()\n",
    "fig.set_size_inches(6,6)\n",
    "plt.show()"
   ]
  },
  {
   "cell_type": "code",
   "execution_count": 11,
   "metadata": {
    "_cell_guid": "60edb823-ee26-425c-a7a6-a0c4c0358ac5",
    "_uuid": "4b066fff3b631ffde2b4c854d699910ec8db6f76"
   },
   "outputs": [],
   "source": [
    "\n",
    "FT[\"toss_winner\"]=TRM[\"toss_winner\"]"
   ]
  },
  {
   "cell_type": "code",
   "execution_count": 12,
   "metadata": {
    "_cell_guid": "afc261e3-a816-4cc1-9828-da0826cf33af",
    "_uuid": "7e9a5eb143d5b124c549fd8810f8d9c1505b6ce4"
   },
   "outputs": [
    {
     "data": {
      "text/html": [
       "<div>\n",
       "<style scoped>\n",
       "    .dataframe tbody tr th:only-of-type {\n",
       "        vertical-align: middle;\n",
       "    }\n",
       "\n",
       "    .dataframe tbody tr th {\n",
       "        vertical-align: top;\n",
       "    }\n",
       "\n",
       "    .dataframe thead th {\n",
       "        text-align: right;\n",
       "    }\n",
       "</style>\n",
       "<table border=\"1\" class=\"dataframe\">\n",
       "  <thead>\n",
       "    <tr style=\"text-align: right;\">\n",
       "      <th></th>\n",
       "      <th>id</th>\n",
       "      <th>season</th>\n",
       "      <th>city</th>\n",
       "      <th>team1</th>\n",
       "      <th>team2</th>\n",
       "      <th>toss_winner</th>\n",
       "      <th>toss_decision</th>\n",
       "      <th>result</th>\n",
       "      <th>dl_applied</th>\n",
       "      <th>winner</th>\n",
       "      <th>win_by_runs</th>\n",
       "      <th>win_by_wickets</th>\n",
       "      <th>player_of_match</th>\n",
       "      <th>venue</th>\n",
       "    </tr>\n",
       "    <tr>\n",
       "      <th>id</th>\n",
       "      <th></th>\n",
       "      <th></th>\n",
       "      <th></th>\n",
       "      <th></th>\n",
       "      <th></th>\n",
       "      <th></th>\n",
       "      <th></th>\n",
       "      <th></th>\n",
       "      <th></th>\n",
       "      <th></th>\n",
       "      <th></th>\n",
       "      <th></th>\n",
       "      <th></th>\n",
       "      <th></th>\n",
       "    </tr>\n",
       "  </thead>\n",
       "  <tbody>\n",
       "    <tr>\n",
       "      <th>57</th>\n",
       "      <td>57</td>\n",
       "      <td>2017</td>\n",
       "      <td>City5</td>\n",
       "      <td>Team1</td>\n",
       "      <td>Team6</td>\n",
       "      <td>Team6</td>\n",
       "      <td>field</td>\n",
       "      <td>normal</td>\n",
       "      <td>1</td>\n",
       "      <td>Team6</td>\n",
       "      <td>0</td>\n",
       "      <td>7</td>\n",
       "      <td>Player 286</td>\n",
       "      <td>Stadium5</td>\n",
       "    </tr>\n",
       "    <tr>\n",
       "      <th>100</th>\n",
       "      <td>100</td>\n",
       "      <td>2008</td>\n",
       "      <td>City9</td>\n",
       "      <td>Team7</td>\n",
       "      <td>Team8</td>\n",
       "      <td>Team7</td>\n",
       "      <td>bat</td>\n",
       "      <td>normal</td>\n",
       "      <td>1</td>\n",
       "      <td>Team8</td>\n",
       "      <td>6</td>\n",
       "      <td>0</td>\n",
       "      <td>Player 125</td>\n",
       "      <td>Stadium8</td>\n",
       "    </tr>\n",
       "    <tr>\n",
       "      <th>103</th>\n",
       "      <td>103</td>\n",
       "      <td>2008</td>\n",
       "      <td>City8</td>\n",
       "      <td>Team6</td>\n",
       "      <td>Team10</td>\n",
       "      <td>Team6</td>\n",
       "      <td>bat</td>\n",
       "      <td>normal</td>\n",
       "      <td>1</td>\n",
       "      <td>Team10</td>\n",
       "      <td>3</td>\n",
       "      <td>0</td>\n",
       "      <td>Player 236</td>\n",
       "      <td>Stadium7</td>\n",
       "    </tr>\n",
       "    <tr>\n",
       "      <th>120</th>\n",
       "      <td>120</td>\n",
       "      <td>2009</td>\n",
       "      <td>City14</td>\n",
       "      <td>Team8</td>\n",
       "      <td>Team7</td>\n",
       "      <td>Team7</td>\n",
       "      <td>field</td>\n",
       "      <td>normal</td>\n",
       "      <td>1</td>\n",
       "      <td>Team7</td>\n",
       "      <td>0</td>\n",
       "      <td>10</td>\n",
       "      <td>Player 120</td>\n",
       "      <td>Stadium14</td>\n",
       "    </tr>\n",
       "    <tr>\n",
       "      <th>123</th>\n",
       "      <td>123</td>\n",
       "      <td>2009</td>\n",
       "      <td>City16</td>\n",
       "      <td>Team8</td>\n",
       "      <td>Team6</td>\n",
       "      <td>Team6</td>\n",
       "      <td>field</td>\n",
       "      <td>normal</td>\n",
       "      <td>1</td>\n",
       "      <td>Team6</td>\n",
       "      <td>11</td>\n",
       "      <td>0</td>\n",
       "      <td>Player 87</td>\n",
       "      <td>Stadium16</td>\n",
       "    </tr>\n",
       "    <tr>\n",
       "      <th>149</th>\n",
       "      <td>149</td>\n",
       "      <td>2009</td>\n",
       "      <td>City17</td>\n",
       "      <td>Team10</td>\n",
       "      <td>Team8</td>\n",
       "      <td>Team10</td>\n",
       "      <td>bat</td>\n",
       "      <td>normal</td>\n",
       "      <td>1</td>\n",
       "      <td>Team10</td>\n",
       "      <td>12</td>\n",
       "      <td>0</td>\n",
       "      <td>Player 259</td>\n",
       "      <td>Stadium17</td>\n",
       "    </tr>\n",
       "    <tr>\n",
       "      <th>252</th>\n",
       "      <td>252</td>\n",
       "      <td>2011</td>\n",
       "      <td>City26</td>\n",
       "      <td>Team10</td>\n",
       "      <td>Team11</td>\n",
       "      <td>Team11</td>\n",
       "      <td>field</td>\n",
       "      <td>normal</td>\n",
       "      <td>1</td>\n",
       "      <td>Team11</td>\n",
       "      <td>0</td>\n",
       "      <td>7</td>\n",
       "      <td>Player 68</td>\n",
       "      <td>Stadium27</td>\n",
       "    </tr>\n",
       "    <tr>\n",
       "      <th>281</th>\n",
       "      <td>281</td>\n",
       "      <td>2011</td>\n",
       "      <td>City8</td>\n",
       "      <td>Team10</td>\n",
       "      <td>Team6</td>\n",
       "      <td>Team10</td>\n",
       "      <td>bat</td>\n",
       "      <td>normal</td>\n",
       "      <td>1</td>\n",
       "      <td>Team6</td>\n",
       "      <td>10</td>\n",
       "      <td>0</td>\n",
       "      <td>Player 161</td>\n",
       "      <td>Stadium7</td>\n",
       "    </tr>\n",
       "    <tr>\n",
       "      <th>291</th>\n",
       "      <td>291</td>\n",
       "      <td>2011</td>\n",
       "      <td>City5</td>\n",
       "      <td>Team6</td>\n",
       "      <td>Team5</td>\n",
       "      <td>Team5</td>\n",
       "      <td>field</td>\n",
       "      <td>normal</td>\n",
       "      <td>1</td>\n",
       "      <td>Team5</td>\n",
       "      <td>0</td>\n",
       "      <td>4</td>\n",
       "      <td>Player 87</td>\n",
       "      <td>Stadium5</td>\n",
       "    </tr>\n",
       "    <tr>\n",
       "      <th>489</th>\n",
       "      <td>489</td>\n",
       "      <td>2014</td>\n",
       "      <td>City9</td>\n",
       "      <td>Team7</td>\n",
       "      <td>Team1</td>\n",
       "      <td>Team1</td>\n",
       "      <td>field</td>\n",
       "      <td>normal</td>\n",
       "      <td>1</td>\n",
       "      <td>Team1</td>\n",
       "      <td>0</td>\n",
       "      <td>8</td>\n",
       "      <td>Player 132</td>\n",
       "      <td>Stadium8</td>\n",
       "    </tr>\n",
       "  </tbody>\n",
       "</table>\n",
       "</div>"
      ],
      "text/plain": [
       "      id  season    city   team1   team2 toss_winner toss_decision  result  \\\n",
       "id                                                                           \n",
       "57    57    2017   City5   Team1   Team6       Team6         field  normal   \n",
       "100  100    2008   City9   Team7   Team8       Team7           bat  normal   \n",
       "103  103    2008   City8   Team6  Team10       Team6           bat  normal   \n",
       "120  120    2009  City14   Team8   Team7       Team7         field  normal   \n",
       "123  123    2009  City16   Team8   Team6       Team6         field  normal   \n",
       "149  149    2009  City17  Team10   Team8      Team10           bat  normal   \n",
       "252  252    2011  City26  Team10  Team11      Team11         field  normal   \n",
       "281  281    2011   City8  Team10   Team6      Team10           bat  normal   \n",
       "291  291    2011   City5   Team6   Team5       Team5         field  normal   \n",
       "489  489    2014   City9   Team7   Team1       Team1         field  normal   \n",
       "\n",
       "     dl_applied  winner  win_by_runs  win_by_wickets player_of_match  \\\n",
       "id                                                                     \n",
       "57            1   Team6            0               7      Player 286   \n",
       "100           1   Team8            6               0      Player 125   \n",
       "103           1  Team10            3               0      Player 236   \n",
       "120           1   Team7            0              10      Player 120   \n",
       "123           1   Team6           11               0       Player 87   \n",
       "149           1  Team10           12               0      Player 259   \n",
       "252           1  Team11            0               7       Player 68   \n",
       "281           1   Team6           10               0      Player 161   \n",
       "291           1   Team5            0               4       Player 87   \n",
       "489           1   Team1            0               8      Player 132   \n",
       "\n",
       "         venue  \n",
       "id              \n",
       "57    Stadium5  \n",
       "100   Stadium8  \n",
       "103   Stadium7  \n",
       "120  Stadium14  \n",
       "123  Stadium16  \n",
       "149  Stadium17  \n",
       "252  Stadium27  \n",
       "281   Stadium7  \n",
       "291   Stadium5  \n",
       "489   Stadium8  "
      ]
     },
     "execution_count": 12,
     "metadata": {},
     "output_type": "execute_result"
    }
   ],
   "source": [
    "\n",
    "dl=TRM.loc[TRM['dl_applied'] == 1]\n",
    "dl"
   ]
  },
  {
   "cell_type": "code",
   "execution_count": 13,
   "metadata": {
    "_cell_guid": "cebc775a-e10d-444c-a955-225d26f01c3f",
    "_uuid": "1f25c0d85abefbe345220629b68fcbf58a23749e"
   },
   "outputs": [
    {
     "data": {
      "text/html": [
       "<div>\n",
       "<style scoped>\n",
       "    .dataframe tbody tr th:only-of-type {\n",
       "        vertical-align: middle;\n",
       "    }\n",
       "\n",
       "    .dataframe tbody tr th {\n",
       "        vertical-align: top;\n",
       "    }\n",
       "\n",
       "    .dataframe thead th {\n",
       "        text-align: right;\n",
       "    }\n",
       "</style>\n",
       "<table border=\"1\" class=\"dataframe\">\n",
       "  <thead>\n",
       "    <tr style=\"text-align: right;\">\n",
       "      <th></th>\n",
       "      <th>Team A</th>\n",
       "      <th>Team B</th>\n",
       "      <th>season</th>\n",
       "      <th>toss_winner</th>\n",
       "      <th>dl_applied</th>\n",
       "    </tr>\n",
       "    <tr>\n",
       "      <th>match_id</th>\n",
       "      <th></th>\n",
       "      <th></th>\n",
       "      <th></th>\n",
       "      <th></th>\n",
       "      <th></th>\n",
       "    </tr>\n",
       "  </thead>\n",
       "  <tbody>\n",
       "    <tr>\n",
       "      <th>1</th>\n",
       "      <td>Team1</td>\n",
       "      <td>Team5</td>\n",
       "      <td>2017</td>\n",
       "      <td>Team5</td>\n",
       "      <td>0</td>\n",
       "    </tr>\n",
       "    <tr>\n",
       "      <th>2</th>\n",
       "      <td>Team2</td>\n",
       "      <td>Team4</td>\n",
       "      <td>2017</td>\n",
       "      <td>Team4</td>\n",
       "      <td>0</td>\n",
       "    </tr>\n",
       "    <tr>\n",
       "      <th>3</th>\n",
       "      <td>Team3</td>\n",
       "      <td>Team6</td>\n",
       "      <td>2017</td>\n",
       "      <td>Team6</td>\n",
       "      <td>0</td>\n",
       "    </tr>\n",
       "    <tr>\n",
       "      <th>4</th>\n",
       "      <td>Team4</td>\n",
       "      <td>Team8</td>\n",
       "      <td>2017</td>\n",
       "      <td>Team8</td>\n",
       "      <td>0</td>\n",
       "    </tr>\n",
       "    <tr>\n",
       "      <th>5</th>\n",
       "      <td>Team5</td>\n",
       "      <td>Team7</td>\n",
       "      <td>2017</td>\n",
       "      <td>Team5</td>\n",
       "      <td>0</td>\n",
       "    </tr>\n",
       "    <tr>\n",
       "      <th>...</th>\n",
       "      <td>...</td>\n",
       "      <td>...</td>\n",
       "      <td>...</td>\n",
       "      <td>...</td>\n",
       "      <td>...</td>\n",
       "    </tr>\n",
       "    <tr>\n",
       "      <th>496</th>\n",
       "      <td>Team1</td>\n",
       "      <td>Team8</td>\n",
       "      <td>2014</td>\n",
       "      <td>Team8</td>\n",
       "      <td>0</td>\n",
       "    </tr>\n",
       "    <tr>\n",
       "      <th>497</th>\n",
       "      <td>Team2</td>\n",
       "      <td>Team6</td>\n",
       "      <td>2014</td>\n",
       "      <td>Team6</td>\n",
       "      <td>0</td>\n",
       "    </tr>\n",
       "    <tr>\n",
       "      <th>498</th>\n",
       "      <td>Team9</td>\n",
       "      <td>Team7</td>\n",
       "      <td>2014</td>\n",
       "      <td>Team7</td>\n",
       "      <td>0</td>\n",
       "    </tr>\n",
       "    <tr>\n",
       "      <th>499</th>\n",
       "      <td>Team10</td>\n",
       "      <td>Team5</td>\n",
       "      <td>2014</td>\n",
       "      <td>Team10</td>\n",
       "      <td>0</td>\n",
       "    </tr>\n",
       "    <tr>\n",
       "      <th>500</th>\n",
       "      <td>Team1</td>\n",
       "      <td>Team6</td>\n",
       "      <td>2014</td>\n",
       "      <td>Team1</td>\n",
       "      <td>0</td>\n",
       "    </tr>\n",
       "  </tbody>\n",
       "</table>\n",
       "<p>500 rows × 5 columns</p>\n",
       "</div>"
      ],
      "text/plain": [
       "          Team A Team B  season toss_winner  dl_applied\n",
       "match_id                                               \n",
       "1          Team1  Team5    2017       Team5           0\n",
       "2          Team2  Team4    2017       Team4           0\n",
       "3          Team3  Team6    2017       Team6           0\n",
       "4          Team4  Team8    2017       Team8           0\n",
       "5          Team5  Team7    2017       Team5           0\n",
       "...          ...    ...     ...         ...         ...\n",
       "496        Team1  Team8    2014       Team8           0\n",
       "497        Team2  Team6    2014       Team6           0\n",
       "498        Team9  Team7    2014       Team7           0\n",
       "499       Team10  Team5    2014      Team10           0\n",
       "500        Team1  Team6    2014       Team1           0\n",
       "\n",
       "[500 rows x 5 columns]"
      ]
     },
     "execution_count": 13,
     "metadata": {},
     "output_type": "execute_result"
    }
   ],
   "source": [
    "FT[\"dl_applied\"]=TRM[\"dl_applied\"]\n",
    "FT"
   ]
  },
  {
   "cell_type": "code",
   "execution_count": 14,
   "metadata": {
    "_cell_guid": "26a0aada-5b3c-46c5-928d-15a9f97f59e9",
    "_uuid": "b7479a035df0103bbb636d5881229af8966563d6"
   },
   "outputs": [
    {
     "data": {
      "image/png": "[encoded data removed]",
      "text/plain": [
       "<Figure size 720x1080 with 1 Axes>"
      ]
     },
     "metadata": {
      "needs_background": "light"
     },
     "output_type": "display_data"
    }
   ],
   "source": [
    "plt.subplots(figsize=(10,15))\n",
    "ax = TRM['venue'].value_counts().sort_values(ascending=True).plot.barh(width=.9)\n",
    "ax.set_xlabel('Grounds')\n",
    "random_state=0.9\n",
    "ax.set_ylabel('count')\n",
    "plt.show()"
   ]
  },
  {
   "cell_type": "code",
   "execution_count": 15,
   "metadata": {
    "_cell_guid": "9e636923-e4a6-4457-bd7b-b2682edc9be1",
    "_uuid": "9b11b1f2c332d1586aa649fd5dc22b57bbed250c"
   },
   "outputs": [
    {
     "data": {
      "image/png": "[encoded data removed]",
      "text/plain": [
       "<Figure size 1152x576 with 1 Axes>"
      ]
     },
     "metadata": {
      "needs_background": "light"
     },
     "output_type": "display_data"
    }
   ],
   "source": [
    "runs_per_over = TRD.pivot_table(index=['over'],columns='batting_team',values='total_runs',aggfunc=sum)\n",
    "runs_per_over[(matches_played_byteams[matches_played_byteams['Total Matches']>50].index)].plot(color=[\"b\", \"r\", \"#Ffb6b2\", \"g\",'brown','y','#6666ff','black','#FFA500']) #plotting graphs for teams that have played more than 100 matches\n",
    "x=[1,2,3,4,5,6,7,8,9,10,11,12,13,14,15,16,17,18,19,20]\n",
    "plt.xticks(x)\n",
    "plt.ylabel('total runs scored')\n",
    "fig=plt.gcf()\n",
    "fig.set_size_inches(16,8)\n",
    "plt.show()"
   ]
  },
  {
   "cell_type": "code",
   "execution_count": 16,
   "metadata": {
    "_cell_guid": "7abc5d08-99a2-4c99-8c9e-d27614dc0859",
    "_uuid": "9f4b1ad9a4ecf1db21ace77906d97b81d210ed30",
    "scrolled": false
   },
   "outputs": [
    {
     "data": {
      "text/html": [
       "<div>\n",
       "<style scoped>\n",
       "    .dataframe tbody tr th:only-of-type {\n",
       "        vertical-align: middle;\n",
       "    }\n",
       "\n",
       "    .dataframe tbody tr th {\n",
       "        vertical-align: top;\n",
       "    }\n",
       "\n",
       "    .dataframe thead th {\n",
       "        text-align: right;\n",
       "    }\n",
       "</style>\n",
       "<table border=\"1\" class=\"dataframe\">\n",
       "  <thead>\n",
       "    <tr style=\"text-align: right;\">\n",
       "      <th></th>\n",
       "      <th>match_id</th>\n",
       "      <th>Team_A_Batting_Average</th>\n",
       "      <th>Team_A_Bowling_Average</th>\n",
       "      <th>Team_A_Total_Runs</th>\n",
       "      <th>Team_B_Batting_Average</th>\n",
       "      <th>Team_B_Bowling_Average</th>\n",
       "      <th>Team_B_Total_Runs</th>\n",
       "      <th>Team_A_overall</th>\n",
       "      <th>Team_B_overall</th>\n",
       "      <th>super_over</th>\n",
       "    </tr>\n",
       "    <tr>\n",
       "      <th>match_id</th>\n",
       "      <th></th>\n",
       "      <th></th>\n",
       "      <th></th>\n",
       "      <th></th>\n",
       "      <th></th>\n",
       "      <th></th>\n",
       "      <th></th>\n",
       "      <th></th>\n",
       "      <th></th>\n",
       "      <th></th>\n",
       "    </tr>\n",
       "  </thead>\n",
       "  <tbody>\n",
       "    <tr>\n",
       "      <th>1</th>\n",
       "      <td>1</td>\n",
       "      <td>3.57</td>\n",
       "      <td>-0.250000</td>\n",
       "      <td>207</td>\n",
       "      <td>2.54</td>\n",
       "      <td>-1.835714</td>\n",
       "      <td>172</td>\n",
       "      <td>1.660000</td>\n",
       "      <td>0.352143</td>\n",
       "      <td>0</td>\n",
       "    </tr>\n",
       "    <tr>\n",
       "      <th>2</th>\n",
       "      <td>2</td>\n",
       "      <td>2.82</td>\n",
       "      <td>-1.471429</td>\n",
       "      <td>184</td>\n",
       "      <td>3.25</td>\n",
       "      <td>-0.692857</td>\n",
       "      <td>187</td>\n",
       "      <td>0.674286</td>\n",
       "      <td>1.278571</td>\n",
       "      <td>0</td>\n",
       "    </tr>\n",
       "    <tr>\n",
       "      <th>3</th>\n",
       "      <td>3</td>\n",
       "      <td>3.09</td>\n",
       "      <td>-2.064286</td>\n",
       "      <td>183</td>\n",
       "      <td>3.13</td>\n",
       "      <td>-1.121429</td>\n",
       "      <td>184</td>\n",
       "      <td>0.512857</td>\n",
       "      <td>1.004286</td>\n",
       "      <td>0</td>\n",
       "    </tr>\n",
       "    <tr>\n",
       "      <th>4</th>\n",
       "      <td>4</td>\n",
       "      <td>2.59</td>\n",
       "      <td>-0.764286</td>\n",
       "      <td>163</td>\n",
       "      <td>2.48</td>\n",
       "      <td>-0.835714</td>\n",
       "      <td>164</td>\n",
       "      <td>0.912857</td>\n",
       "      <td>0.822143</td>\n",
       "      <td>0</td>\n",
       "    </tr>\n",
       "    <tr>\n",
       "      <th>5</th>\n",
       "      <td>5</td>\n",
       "      <td>2.24</td>\n",
       "      <td>0.228571</td>\n",
       "      <td>157</td>\n",
       "      <td>1.96</td>\n",
       "      <td>0.042857</td>\n",
       "      <td>142</td>\n",
       "      <td>1.234286</td>\n",
       "      <td>1.001429</td>\n",
       "      <td>0</td>\n",
       "    </tr>\n",
       "    <tr>\n",
       "      <th>...</th>\n",
       "      <td>...</td>\n",
       "      <td>...</td>\n",
       "      <td>...</td>\n",
       "      <td>...</td>\n",
       "      <td>...</td>\n",
       "      <td>...</td>\n",
       "      <td>...</td>\n",
       "      <td>...</td>\n",
       "      <td>...</td>\n",
       "      <td>...</td>\n",
       "    </tr>\n",
       "    <tr>\n",
       "      <th>496</th>\n",
       "      <td>496</td>\n",
       "      <td>3.18</td>\n",
       "      <td>-1.657143</td>\n",
       "      <td>205</td>\n",
       "      <td>3.70</td>\n",
       "      <td>-1.314286</td>\n",
       "      <td>211</td>\n",
       "      <td>0.761429</td>\n",
       "      <td>1.192857</td>\n",
       "      <td>0</td>\n",
       "    </tr>\n",
       "    <tr>\n",
       "      <th>497</th>\n",
       "      <td>497</td>\n",
       "      <td>1.98</td>\n",
       "      <td>-0.378571</td>\n",
       "      <td>141</td>\n",
       "      <td>2.18</td>\n",
       "      <td>0.071429</td>\n",
       "      <td>142</td>\n",
       "      <td>0.800714</td>\n",
       "      <td>1.125714</td>\n",
       "      <td>0</td>\n",
       "    </tr>\n",
       "    <tr>\n",
       "      <th>498</th>\n",
       "      <td>498</td>\n",
       "      <td>3.21</td>\n",
       "      <td>0.085714</td>\n",
       "      <td>201</td>\n",
       "      <td>1.84</td>\n",
       "      <td>-1.371429</td>\n",
       "      <td>139</td>\n",
       "      <td>1.647857</td>\n",
       "      <td>0.234286</td>\n",
       "      <td>0</td>\n",
       "    </tr>\n",
       "    <tr>\n",
       "      <th>499</th>\n",
       "      <td>499</td>\n",
       "      <td>2.06</td>\n",
       "      <td>0.171429</td>\n",
       "      <td>138</td>\n",
       "      <td>1.89</td>\n",
       "      <td>-0.214286</td>\n",
       "      <td>142</td>\n",
       "      <td>1.115714</td>\n",
       "      <td>0.837857</td>\n",
       "      <td>0</td>\n",
       "    </tr>\n",
       "    <tr>\n",
       "      <th>500</th>\n",
       "      <td>500</td>\n",
       "      <td>1.82</td>\n",
       "      <td>-0.414286</td>\n",
       "      <td>142</td>\n",
       "      <td>2.40</td>\n",
       "      <td>0.271429</td>\n",
       "      <td>146</td>\n",
       "      <td>0.702857</td>\n",
       "      <td>1.335714</td>\n",
       "      <td>0</td>\n",
       "    </tr>\n",
       "  </tbody>\n",
       "</table>\n",
       "<p>500 rows × 10 columns</p>\n",
       "</div>"
      ],
      "text/plain": [
       "          match_id  Team_A_Batting_Average  Team_A_Bowling_Average  \\\n",
       "match_id                                                             \n",
       "1                1                    3.57               -0.250000   \n",
       "2                2                    2.82               -1.471429   \n",
       "3                3                    3.09               -2.064286   \n",
       "4                4                    2.59               -0.764286   \n",
       "5                5                    2.24                0.228571   \n",
       "...            ...                     ...                     ...   \n",
       "496            496                    3.18               -1.657143   \n",
       "497            497                    1.98               -0.378571   \n",
       "498            498                    3.21                0.085714   \n",
       "499            499                    2.06                0.171429   \n",
       "500            500                    1.82               -0.414286   \n",
       "\n",
       "          Team_A_Total_Runs  Team_B_Batting_Average  Team_B_Bowling_Average  \\\n",
       "match_id                                                                      \n",
       "1                       207                    2.54               -1.835714   \n",
       "2                       184                    3.25               -0.692857   \n",
       "3                       183                    3.13               -1.121429   \n",
       "4                       163                    2.48               -0.835714   \n",
       "5                       157                    1.96                0.042857   \n",
       "...                     ...                     ...                     ...   \n",
       "496                     205                    3.70               -1.314286   \n",
       "497                     141                    2.18                0.071429   \n",
       "498                     201                    1.84               -1.371429   \n",
       "499                     138                    1.89               -0.214286   \n",
       "500                     142                    2.40                0.271429   \n",
       "\n",
       "          Team_B_Total_Runs  Team_A_overall  Team_B_overall super_over  \n",
       "match_id                                                                \n",
       "1                       172        1.660000        0.352143          0  \n",
       "2                       187        0.674286        1.278571          0  \n",
       "3                       184        0.512857        1.004286          0  \n",
       "4                       164        0.912857        0.822143          0  \n",
       "5                       142        1.234286        1.001429          0  \n",
       "...                     ...             ...             ...        ...  \n",
       "496                     211        0.761429        1.192857          0  \n",
       "497                     142        0.800714        1.125714          0  \n",
       "498                     139        1.647857        0.234286          0  \n",
       "499                     142        1.115714        0.837857          0  \n",
       "500                     146        0.702857        1.335714          0  \n",
       "\n",
       "[500 rows x 10 columns]"
      ]
     },
     "execution_count": 16,
     "metadata": {},
     "output_type": "execute_result"
    }
   ],
   "source": [
    "def Batting_Averager(df):\n",
    "    over_average=pd.DataFrame()\n",
    "    overs=list(range(1, 21))\n",
    "    o_a=[]\n",
    "    o=pd.Series(overs)\n",
    "    over_average['overs']=o.values\n",
    "    for i in overs:\n",
    "        over_temp_frame=df.loc[df['over']== i]\n",
    "        total_bruns=over_temp_frame['bye_runs'].sum()\n",
    "        total_lbruns=over_temp_frame['legbye_runs'].sum()\n",
    "        b_non_zero=over_temp_frame.loc[over_temp_frame['batsman_runs'] != 0,\"batsman_runs\"].sum()\n",
    "        b_dot=over_temp_frame.loc[over_temp_frame['batsman_runs']==0,\"batsman_runs\"].count()\n",
    "        b_dis=over_temp_frame.loc[over_temp_frame['dismissal_kind'] != 'NaN',\"dismissal_kind\"].count()\n",
    "        oa=(1*total_bruns+1*total_lbruns+2*b_non_zero-1*b_dot+-3*b_dis)/5\n",
    "        o_a.append(oa)\n",
    "    o_a=pd.Series(o_a)\n",
    "    over_average['average']=o_a.values\n",
    "    bat_av=over_average[\"average\"].mean()\n",
    "    return bat_av\n",
    "    \n",
    "\n",
    "def Bowling_Averager(df):\n",
    "    over_average=pd.DataFrame()\n",
    "    overs=list(range(1, 21))\n",
    "    o_a=[]\n",
    "    o=pd.Series(overs)\n",
    "    over_average['overs']=o.values\n",
    "    for i in overs:\n",
    "        over_temp_frame=df.loc[df['over']== i]\n",
    "        total_wr=over_temp_frame['wide_runs'].sum()\n",
    "        total_nb=over_temp_frame['noball_runs'].sum()\n",
    "        total_pr=over_temp_frame['penalty_runs'].sum()\n",
    "        total_er=over_temp_frame['extra_runs'].sum()\n",
    "        b_non_zero=over_temp_frame.loc[over_temp_frame['total_runs'] != 0,\"total_runs\"].sum()\n",
    "        b_dot=over_temp_frame.loc[over_temp_frame['total_runs']==0,\"total_runs\"].count()\n",
    "        b_dis=over_temp_frame.loc[over_temp_frame['dismissal_kind'] != 'NaN',\"dismissal_kind\"].count()\n",
    "        oa=(-1*total_wr+-1*total_nb+-2*total_pr+-1*total_er+-2*b_non_zero+5*b_dot+10*b_dis)/7\n",
    "        o_a.append(oa)\n",
    "    o_a=pd.Series(o_a)\n",
    "    over_average['average']=o_a.values\n",
    "    bow_av=over_average[\"average\"].mean()\n",
    "    return(bow_av)\n",
    "\n",
    "\n",
    "\n",
    "\n",
    "team_performance=pd.DataFrame()\n",
    "team_performance[\"match_id\"]=TRM[\"id\"]\n",
    "team_performance.index=team_performance[\"match_id\"]\n",
    "team_performance[\"Team_A_Batting_Average\"]=0.0\n",
    "team_performance[\"Team_A_Bowling_Average\"]=0.0\n",
    "team_performance[\"Team_A_Total_Runs\"]=0\n",
    "team_performance[\"Team_B_Batting_Average\"]=0.0\n",
    "team_performance[\"Team_B_Bowling_Average\"]=0.0\n",
    "team_performance[\"Team_B_Total_Runs\"]=0\n",
    "team_performance[\"Team_A_overall\"]=0.0\n",
    "team_performance[\"Team_B_overall\"]=0.0\n",
    "team_performance[\"super_over\"]='0'\n",
    "\n",
    "\n",
    "match_id_list=TRM[\"id\"].unique()\n",
    "overs_list=[1,2,3,4,5,6,7,8,9,10,11,12,13,14,15,16,17,18,19,20]\n",
    "\n",
    "\n",
    "for m in match_id_list:\n",
    "    match_frame=TRD.loc[TRD[\"match_id\"]==m]\n",
    "    temp=FT.loc[m,\"Team A\":\"Team B\"]\n",
    "    team_dict=temp.to_dict()\n",
    "    FLAG=False\n",
    "    team_perform_dict={\"match_id\":m,\"Team_A_Batting_Average\":0.0,\"Team_A_Bowling_Average\":0.0,\"Team_A_Total_Runs\":0,\"Team_B_Batting_Average\":0.0,\"Team_B_Bowling_Average\":0.0,\"Team_B_Total_Runs\":0,\"Team_A_overall\":0.0,\"Team_B_overall\":0.0,\"super_over\":'0'}\n",
    "    super_over=match_frame['is_super_over'].sum()\n",
    "    \n",
    "    if super_over==0:\n",
    "        innings=match_frame[\"inning\"].unique()\n",
    "        super_over_innings=[]\n",
    "    else :\n",
    "        super_over_run={\"Team_A_run\":0,\"Team_B_run\":0}\n",
    "        FLAG=True\n",
    "        super_over_innings=[3,4]\n",
    "    \n",
    "    for i in innings:\n",
    "        innings_frame=pd.DataFrame()\n",
    "        innings_frame=match_frame.loc[match_frame['inning'] == i]\n",
    "        batting_team=innings_frame.loc[innings_frame['inning']== i,\"batting_team\"].values[0]\n",
    "        bowling_team=innings_frame.loc[innings_frame['inning']== i,\"bowling_team\"].values[0]\n",
    "        \n",
    "        if(team_dict['Team A']==batting_team):\n",
    "            batting_team_frame=innings_frame[['over','ball','bye_runs','legbye_runs','batsman_runs','dismissal_kind']]\n",
    "            bowling_team_frame=innings_frame[['over','ball','wide_runs','noball_runs','penalty_runs','extra_runs','total_runs','dismissal_kind']]\n",
    "            team_perform_dict[\"Team_A_Batting_Average\"]=Batting_Averager(batting_team_frame)\n",
    "            team_perform_dict[\"Team_B_Bowling_Average\"]=Bowling_Averager(bowling_team_frame)\n",
    "            team_perform_dict[\"Team_A_Total_Runs\"] =innings_frame['total_runs'].sum()\n",
    "            \n",
    "        elif(team_dict['Team B']==batting_team):\n",
    "            batting_team_frame=innings_frame[['over','ball','bye_runs','legbye_runs','batsman_runs','dismissal_kind']]\n",
    "            bowling_team_frame=innings_frame[['over','ball','wide_runs','noball_runs','penalty_runs','extra_runs','total_runs','dismissal_kind']]\n",
    "            team_perform_dict[\"Team_B_Batting_Average\"]=Batting_Averager(batting_team_frame)\n",
    "            team_perform_dict[\"Team_A_Bowling_Average\"]=Bowling_Averager(bowling_team_frame)\n",
    "            team_perform_dict[\"Team_B_Total_Runs\"]=innings_frame['total_runs'].sum()\n",
    "        \n",
    "    for i in super_over_innings:\n",
    "        innings_frame=pd.DataFrame()\n",
    "        innings_frame=match_frame.loc[match_frame['inning']==i]\n",
    "        batting_team=innings_frame.loc[innings_frame['inning']== i,\"batting_team\"].values[0]\n",
    "        if(team_dict['Team A']==batting_team):\n",
    "            super_over_run[\"Team_A_run\"]=innings_frame['total_runs'].sum()\n",
    "        elif(team_dict['Team B']==batting_team):\n",
    "            super_over_run[\"Team_B_run\"]=innings_frame['total_runs'].sum()\n",
    "\n",
    "    if FLAG:\n",
    "        if super_over_run[\"Team_A_run\"]>super_over_run[\"Team_B_run\"]:\n",
    "            team_perform_dict['super_over']='A'\n",
    "        elif super_over_run[\"Team_B_run\"]>super_over_run[\"Team_A_run\"]:\n",
    "            team_perform_dict['super_over']='B'\n",
    "            \n",
    "    team_perform_dict[\"Team_A_overall\"]=(team_perform_dict[\"Team_A_Batting_Average\"]+team_perform_dict[\"Team_A_Bowling_Average\"])/2\n",
    "    team_perform_dict[\"Team_B_overall\"]=(team_perform_dict[\"Team_B_Batting_Average\"]+team_perform_dict[\"Team_B_Bowling_Average\"])/2\n",
    "\n",
    "    \n",
    "    df=pd.DataFrame([team_perform_dict],columns=team_perform_dict.keys())\n",
    "    df.index=df[\"match_id\"]\n",
    "    match=df[\"match_id\"].unique()\n",
    "    team_performance.loc[match,:]= df.loc[df[\"match_id\"],:]\n",
    "    \n",
    "\n",
    "team_performance"
   ]
  },
  {
   "cell_type": "code",
   "execution_count": 17,
   "metadata": {
    "_cell_guid": "ddacc058-fbc6-452b-aeac-a27269e78fb0",
    "_uuid": "e51209fc1f565f45acd741643b87da295775b0a8"
   },
   "outputs": [
    {
     "data": {
      "text/html": [
       "<div>\n",
       "<style scoped>\n",
       "    .dataframe tbody tr th:only-of-type {\n",
       "        vertical-align: middle;\n",
       "    }\n",
       "\n",
       "    .dataframe tbody tr th {\n",
       "        vertical-align: top;\n",
       "    }\n",
       "\n",
       "    .dataframe thead th {\n",
       "        text-align: right;\n",
       "    }\n",
       "</style>\n",
       "<table border=\"1\" class=\"dataframe\">\n",
       "  <thead>\n",
       "    <tr style=\"text-align: right;\">\n",
       "      <th></th>\n",
       "      <th>match_id</th>\n",
       "      <th>man_of_match</th>\n",
       "    </tr>\n",
       "    <tr>\n",
       "      <th>match_id</th>\n",
       "      <th></th>\n",
       "      <th></th>\n",
       "    </tr>\n",
       "  </thead>\n",
       "  <tbody>\n",
       "    <tr>\n",
       "      <th>1</th>\n",
       "      <td>1</td>\n",
       "      <td>A</td>\n",
       "    </tr>\n",
       "    <tr>\n",
       "      <th>2</th>\n",
       "      <td>2</td>\n",
       "      <td>B</td>\n",
       "    </tr>\n",
       "    <tr>\n",
       "      <th>3</th>\n",
       "      <td>3</td>\n",
       "      <td>B</td>\n",
       "    </tr>\n",
       "    <tr>\n",
       "      <th>4</th>\n",
       "      <td>4</td>\n",
       "      <td>NOT_IN_TEAM</td>\n",
       "    </tr>\n",
       "    <tr>\n",
       "      <th>5</th>\n",
       "      <td>5</td>\n",
       "      <td>NOT_IN_TEAM</td>\n",
       "    </tr>\n",
       "    <tr>\n",
       "      <th>...</th>\n",
       "      <td>...</td>\n",
       "      <td>...</td>\n",
       "    </tr>\n",
       "    <tr>\n",
       "      <th>496</th>\n",
       "      <td>496</td>\n",
       "      <td>NOT_IN_TEAM</td>\n",
       "    </tr>\n",
       "    <tr>\n",
       "      <th>497</th>\n",
       "      <td>497</td>\n",
       "      <td>NOT_IN_TEAM</td>\n",
       "    </tr>\n",
       "    <tr>\n",
       "      <th>498</th>\n",
       "      <td>498</td>\n",
       "      <td>NOT_IN_TEAM</td>\n",
       "    </tr>\n",
       "    <tr>\n",
       "      <th>499</th>\n",
       "      <td>499</td>\n",
       "      <td>NOT_IN_TEAM</td>\n",
       "    </tr>\n",
       "    <tr>\n",
       "      <th>500</th>\n",
       "      <td>500</td>\n",
       "      <td>NOT_IN_TEAM</td>\n",
       "    </tr>\n",
       "  </tbody>\n",
       "</table>\n",
       "<p>500 rows × 2 columns</p>\n",
       "</div>"
      ],
      "text/plain": [
       "          match_id man_of_match\n",
       "match_id                       \n",
       "1                1            A\n",
       "2                2            B\n",
       "3                3            B\n",
       "4                4  NOT_IN_TEAM\n",
       "5                5  NOT_IN_TEAM\n",
       "...            ...          ...\n",
       "496            496  NOT_IN_TEAM\n",
       "497            497  NOT_IN_TEAM\n",
       "498            498  NOT_IN_TEAM\n",
       "499            499  NOT_IN_TEAM\n",
       "500            500  NOT_IN_TEAM\n",
       "\n",
       "[500 rows x 2 columns]"
      ]
     },
     "execution_count": 17,
     "metadata": {},
     "output_type": "execute_result"
    }
   ],
   "source": [
    "player_match_frame=pd.DataFrame()\n",
    "player_match_frame[\"match_id\"]=TRM[\"id\"]\n",
    "player_match_frame.index=player_match_frame[\"match_id\"]\n",
    "player_match_frame[\"man_of_match\"]='NOT_IN_TEAM'\n",
    "match_id_list=TRM[\"id\"].unique()\n",
    "test_sample=2.024\n",
    "for m in match_id_list:\n",
    "    player=TRM.loc[TRM['id']== m,\"player_of_match\"].values[0]\n",
    "    match_frame=TRD.loc[TRD[\"match_id\"]==m]\n",
    "    temp=FT.loc[m,\"Team A\":\"Team B\"]\n",
    "    team_dict=temp.to_dict()\n",
    "    TEAM_A_BATSMAN=match_frame.loc[match_frame['batting_team']==team_dict[\"Team A\"],[\"batsman\",\"non_striker\"]]\n",
    "    TEAM_A_BOWLERS=match_frame.loc[match_frame['bowling_team']==team_dict[\"Team A\"],[\"bowler\"]]\n",
    "    TEAM_A_MEMBERS=set(list(TEAM_A_BATSMAN[\"batsman\"].unique())+list(TEAM_A_BATSMAN[\"non_striker\"].unique())+list(TEAM_A_BOWLERS[\"bowler\"].unique()))\n",
    "    TEAM_B_BATSMAN=match_frame.loc[match_frame['batting_team']==team_dict[\"Team B\"],[\"batsman\",\"non_striker\"]]\n",
    "    TEAM_B_BOWLERS=match_frame.loc[match_frame['bowling_team']==team_dict[\"Team B\"],[\"bowler\"]]\n",
    "    TEAM_B_MEMBERS=set(list(TEAM_B_BATSMAN[\"batsman\"].unique())+list(TEAM_B_BATSMAN[\"non_striker\"].unique())+list(TEAM_B_BOWLERS[\"bowler\"].unique()))\n",
    "    if player in TEAM_A_MEMBERS:\n",
    "        player_match_frame.at[m, 'man_of_match'] = 'A'\n",
    "    elif player in TEAM_B_MEMBERS:\n",
    "        player_match_frame.at[m,\"man_of_match\"]='B'\n",
    "player_match_frame\n",
    "\n"
   ]
  },
  {
   "cell_type": "code",
   "execution_count": 18,
   "metadata": {
    "_cell_guid": "68635ba6-760b-4793-8459-f88f233e5b44",
    "_uuid": "6b30f3cc2180ee69af0a01507cb4f756a9f61d85"
   },
   "outputs": [
    {
     "data": {
      "text/html": [
       "<div>\n",
       "<style scoped>\n",
       "    .dataframe tbody tr th:only-of-type {\n",
       "        vertical-align: middle;\n",
       "    }\n",
       "\n",
       "    .dataframe tbody tr th {\n",
       "        vertical-align: top;\n",
       "    }\n",
       "\n",
       "    .dataframe thead th {\n",
       "        text-align: right;\n",
       "    }\n",
       "</style>\n",
       "<table border=\"1\" class=\"dataframe\">\n",
       "  <thead>\n",
       "    <tr style=\"text-align: right;\">\n",
       "      <th></th>\n",
       "      <th>match_id</th>\n",
       "      <th>winner</th>\n",
       "    </tr>\n",
       "    <tr>\n",
       "      <th>match_id</th>\n",
       "      <th></th>\n",
       "      <th></th>\n",
       "    </tr>\n",
       "  </thead>\n",
       "  <tbody>\n",
       "    <tr>\n",
       "      <th>1</th>\n",
       "      <td>1</td>\n",
       "      <td>0</td>\n",
       "    </tr>\n",
       "    <tr>\n",
       "      <th>2</th>\n",
       "      <td>2</td>\n",
       "      <td>1</td>\n",
       "    </tr>\n",
       "    <tr>\n",
       "      <th>3</th>\n",
       "      <td>3</td>\n",
       "      <td>1</td>\n",
       "    </tr>\n",
       "    <tr>\n",
       "      <th>4</th>\n",
       "      <td>4</td>\n",
       "      <td>1</td>\n",
       "    </tr>\n",
       "    <tr>\n",
       "      <th>5</th>\n",
       "      <td>5</td>\n",
       "      <td>0</td>\n",
       "    </tr>\n",
       "    <tr>\n",
       "      <th>...</th>\n",
       "      <td>...</td>\n",
       "      <td>...</td>\n",
       "    </tr>\n",
       "    <tr>\n",
       "      <th>496</th>\n",
       "      <td>496</td>\n",
       "      <td>1</td>\n",
       "    </tr>\n",
       "    <tr>\n",
       "      <th>497</th>\n",
       "      <td>497</td>\n",
       "      <td>1</td>\n",
       "    </tr>\n",
       "    <tr>\n",
       "      <th>498</th>\n",
       "      <td>498</td>\n",
       "      <td>0</td>\n",
       "    </tr>\n",
       "    <tr>\n",
       "      <th>499</th>\n",
       "      <td>499</td>\n",
       "      <td>1</td>\n",
       "    </tr>\n",
       "    <tr>\n",
       "      <th>500</th>\n",
       "      <td>500</td>\n",
       "      <td>1</td>\n",
       "    </tr>\n",
       "  </tbody>\n",
       "</table>\n",
       "<p>500 rows × 2 columns</p>\n",
       "</div>"
      ],
      "text/plain": [
       "          match_id  winner\n",
       "match_id                  \n",
       "1                1       0\n",
       "2                2       1\n",
       "3                3       1\n",
       "4                4       1\n",
       "5                5       0\n",
       "...            ...     ...\n",
       "496            496       1\n",
       "497            497       1\n",
       "498            498       0\n",
       "499            499       1\n",
       "500            500       1\n",
       "\n",
       "[500 rows x 2 columns]"
      ]
     },
     "execution_count": 18,
     "metadata": {},
     "output_type": "execute_result"
    }
   ],
   "source": [
    "winner_frame=pd.DataFrame()\n",
    "winner_frame[\"match_id\"]=TRM[\"id\"]\n",
    "winner_frame.index=winner_frame[\"match_id\"]\n",
    "winner_frame[\"winner\"]=0\n",
    "match_id_list=TRM[\"id\"].unique()\n",
    "\n",
    "for m in match_id_list:\n",
    "    winner=TRM.loc[TRM['id']== m,\"winner\"].values[0]\n",
    "    temp=FT.loc[m,\"Team A\":\"Team B\"]\n",
    "    team_dict=temp.to_dict()\n",
    "    if(winner==team_dict[\"Team A\"]):\n",
    "        winner_frame.at[m, 'winner'] = 0\n",
    "    elif(winner==team_dict[\"Team B\"]):\n",
    "        winner_frame.at[m,'winner']=1\n",
    "        \n",
    "winner_frame\n",
    "        "
   ]
  },
  {
   "cell_type": "code",
   "execution_count": 19,
   "metadata": {
    "_cell_guid": "14195dd6-ad52-4942-b67e-303854911f2f",
    "_uuid": "3ddc20fad6c50818abd841ce50f4add66d3c2f55"
   },
   "outputs": [],
   "source": [
    "def Batting_Averager(df):\n",
    "    over_average=pd.DataFrame()\n",
    "    overs=list(range(1, 21))\n",
    "    o_a=[]\n",
    "    o=pd.Series(overs)\n",
    "    over_average['overs']=o.values\n",
    "    for i in overs:\n",
    "        over_temp_frame=df.loc[df['over']== i]\n",
    "        total_bruns=over_temp_frame['bye_runs'].sum()\n",
    "        total_lbruns=over_temp_frame['legbye_runs'].sum()\n",
    "        b_non_zero=over_temp_frame.loc[over_temp_frame['batsman_runs'] != 0,\"batsman_runs\"].sum()\n",
    "        b_dot=over_temp_frame.loc[over_temp_frame['batsman_runs']==0,\"batsman_runs\"].count()\n",
    "        b_dis=over_temp_frame.loc[over_temp_frame['dismissal_kind'] != 'NaN',\"dismissal_kind\"].count()\n",
    "        oa=(1*total_bruns+1*total_lbruns+2*b_non_zero+-1*b_dot+-3*b_dis)/5\n",
    "        o_a.append(oa)\n",
    "    o_a=pd.Series(o_a)\n",
    "    over_average['average']=o_a.values\n",
    "    bat_av=over_average[\"average\"].mean()\n",
    "    return bat_av\n",
    "    \n",
    "\n",
    "def Bowling_Averager(df):\n",
    "    over_average=pd.DataFrame()\n",
    "    overs=list(range(1, 21))\n",
    "    o_a=[]\n",
    "    o=pd.Series(overs)\n",
    "    over_average['overs']=o.values\n",
    "    for i in overs:\n",
    "        over_temp_frame=df.loc[df['over']== i]\n",
    "        total_wr=over_temp_frame['wide_runs'].sum()\n",
    "        total_nb=over_temp_frame['noball_runs'].sum()\n",
    "        total_pr=over_temp_frame['penalty_runs'].sum()\n",
    "        total_er=over_temp_frame['extra_runs'].sum()\n",
    "        b_non_zero=over_temp_frame.loc[over_temp_frame['total_runs'] != 0,\"total_runs\"].sum()\n",
    "        b_dot=over_temp_frame.loc[over_temp_frame['total_runs']==0,\"total_runs\"].count()\n",
    "        b_dis=over_temp_frame.loc[over_temp_frame['dismissal_kind'] != 'NaN',\"dismissal_kind\"].count()\n",
    "        oa=(-1*total_wr+-1*total_nb+-2*total_pr+-1*total_er+-2*b_non_zero+5*b_dot+10*b_dis)/7\n",
    "        o_a.append(oa)\n",
    "    o_a=pd.Series(o_a)\n",
    "    over_average['average']=o_a.values\n",
    "    bow_av=over_average[\"average\"].mean()\n",
    "    return(bow_av)\n",
    "\n",
    "\n",
    "\n",
    "def df_feature(TRM,TRD,T):\n",
    "    \n",
    "    F_T=pd.DataFrame()\n",
    "\n",
    "    F_T[\"match_id\"]=TRM[\"id\"]\n",
    "    F_T.index=F_T[\"match_id\"]\n",
    "\n",
    "    \n",
    "    F_T[\"Team A\"]=TRM[\"team1\"]\n",
    "    F_T[\"Team B\"]=TRM[\"team2\"]\n",
    "\n",
    "   \n",
    "    F_T[\"season\"]=TRM[\"season\"]\n",
    "\n",
    "    \n",
    "    F_T[\"toss_winner\"]=TRM[\"toss_winner\"]\n",
    "\n",
    "    \n",
    "    F_T[\"dl_applied\"]=TRM[\"dl_applied\"]\n",
    "    \n",
    "   \n",
    "    team_performance=pd.DataFrame()\n",
    "    team_performance[\"match_id\"]=TRM[\"id\"]\n",
    "    team_performance.index=team_performance[\"match_id\"]\n",
    "    team_performance[\"Team_A_Batting_Average\"]=0.0\n",
    "    team_performance[\"Team_A_Bowling_Average\"]=0.0\n",
    "    team_performance[\"Team_A_Total_Runs\"]=0.0\n",
    "    team_performance[\"Team_B_Batting_Average\"]=0.0\n",
    "    team_performance[\"Team_B_Bowling_Average\"]=0.0\n",
    "    team_performance[\"Team_B_Total_Runs\"]=0.0\n",
    "    team_performance[\"Team_A_overall\"]=0.0\n",
    "    team_performance[\"Team_B_overall\"]=0.0\n",
    "    team_performance[\"super_over\"]='0'\n",
    "\n",
    "    \n",
    "    match_id_list=TRM[\"id\"].unique()\n",
    "    overs_list=[1,2,3,4,5,6,7,8,9,10,11,12,13,14,15,16,17,18,19,20]\n",
    "\n",
    "\n",
    "    for m in match_id_list:\n",
    "        match_frame=TRD.loc[TRD[\"match_id\"]==m]\n",
    "        temp=F_T.loc[m,\"Team A\":\"Team B\"]\n",
    "        team_dict=temp.to_dict()\n",
    "        FLAG=False\n",
    "        team_perform_dict={\"match_id\":m,\"Team_A_Batting_Average\":0.0,\"Team_A_Bowling_Average\":0.0,\"Team_A_Total_Runs\":0,\"Team_B_Batting_Average\":0.0,\"Team_B_Bowling_Average\":0.0,\"Team_B_Total_Runs\":0,\"Team_A_overall\":0.0,\"Team_B_overall\":0.0,\"super_over\":0}\n",
    "        super_over=match_frame['is_super_over'].sum()\n",
    "    \n",
    "        if super_over==0:\n",
    "            innings=match_frame[\"inning\"].unique()\n",
    "            super_over_innings=[]\n",
    "        else :\n",
    "            super_over_run={\"Team_A_run\":0,\"Team_B_run\":0}\n",
    "            FLAG=True\n",
    "            super_over_innings=[3,4]\n",
    "    \n",
    "        for i in innings:\n",
    "            innings_frame=pd.DataFrame()\n",
    "            innings_frame=match_frame.loc[match_frame['inning'] == i]\n",
    "            batting_team=innings_frame.loc[innings_frame['inning']== i,\"batting_team\"].values[0]\n",
    "            bowling_team=innings_frame.loc[innings_frame['inning']== i,\"bowling_team\"].values[0]\n",
    "        \n",
    "            if(team_dict['Team A']==batting_team):\n",
    "                batting_team_frame=innings_frame[['over','ball','bye_runs','legbye_runs','batsman_runs','dismissal_kind']]\n",
    "                bowling_team_frame=innings_frame[['over','ball','wide_runs','noball_runs','penalty_runs','extra_runs','total_runs','dismissal_kind']]\n",
    "                team_perform_dict[\"Team_A_Batting_Average\"]=Batting_Averager(batting_team_frame)\n",
    "                team_perform_dict[\"Team_B_Bowling_Average\"]=Bowling_Averager(bowling_team_frame)\n",
    "                team_perform_dict[\"Team_A_Total_Runs\"] =innings_frame['total_runs'].sum()\n",
    "            \n",
    "            elif(team_dict['Team B']==batting_team):\n",
    "                batting_team_frame=innings_frame[['over','ball','bye_runs','legbye_runs','batsman_runs','dismissal_kind']]\n",
    "                bowling_team_frame=innings_frame[['over','ball','wide_runs','noball_runs','penalty_runs','extra_runs','total_runs','dismissal_kind']]\n",
    "                team_perform_dict[\"Team_B_Batting_Average\"]=Batting_Averager(batting_team_frame)\n",
    "                team_perform_dict[\"Team_A_Bowling_Average\"]=Bowling_Averager(bowling_team_frame)\n",
    "                team_perform_dict[\"Team_B_Total_Runs\"] =innings_frame['total_runs'].sum()\n",
    "        \n",
    "        for i in super_over_innings:\n",
    "            innings_frame=pd.DataFrame()\n",
    "            innings_frame=match_frame.loc[match_frame['inning']==i]\n",
    "            batting_team=innings_frame.loc[innings_frame['inning']== i,\"batting_team\"].values[0]\n",
    "            if(team_dict['Team A']==batting_team):\n",
    "                super_over_run[\"Team_A_run\"]=innings_frame['total_runs'].sum()\n",
    "            elif(team_dict['Team B']==batting_team):\n",
    "                super_over_run[\"Team_B_run\"]=innings_frame['total_runs'].sum()\n",
    "\n",
    "        if FLAG:\n",
    "            if super_over_run[\"Team_A_run\"]>super_over_run[\"Team_B_run\"]:\n",
    "                team_perform_dict['super_over']=1\n",
    "            elif super_over_run[\"Team_B_run\"]>super_over_run[\"Team_A_run\"]:\n",
    "                team_perform_dict['super_over']=2\n",
    "            \n",
    "        team_perform_dict[\"Team_A_overall\"]=(team_perform_dict[\"Team_A_Batting_Average\"]+team_perform_dict[\"Team_A_Bowling_Average\"])/2\n",
    "        team_perform_dict[\"Team_B_overall\"]=(team_perform_dict[\"Team_B_Batting_Average\"]+team_perform_dict[\"Team_B_Bowling_Average\"])/2\n",
    "\n",
    "    \n",
    "        df=pd.DataFrame([team_perform_dict],columns=team_perform_dict.keys())\n",
    "        df.index=df[\"match_id\"]\n",
    "        match=df[\"match_id\"].unique()\n",
    "        team_performance.loc[match,:]= df.loc[df[\"match_id\"],:]\n",
    "        \n",
    "    F_T[\"Team_A_Batting_Average\"]=team_performance[\"Team_A_Batting_Average\"]\n",
    "    F_T[\"Team_A_Bowling_Average\"]=team_performance[\"Team_A_Bowling_Average\"]\n",
    "    F_T[\"Team_A_Total_Runs\"]=team_performance[\"Team_A_Total_Runs\"]\n",
    "    F_T[\"Team_B_Batting_Average\"]=team_performance[\"Team_B_Batting_Average\"]\n",
    "    F_T[\"Team_B_Bowling_Average\"]=team_performance[\"Team_B_Bowling_Average\"]\n",
    "    F_T[\"Team_B_Total_Runs\"]=team_performance[\"Team_B_Total_Runs\"]\n",
    "    F_T[\"Team_A_overall\"]=team_performance[\"Team_A_overall\"]\n",
    "    F_T[\"Team_B_overall\"]=team_performance[\"Team_B_overall\"]\n",
    "    F_T[\"super_over\"]=team_performance[\"super_over\"]\n",
    "    \n",
    "    if(T):\n",
    "        #Winner Field\n",
    "        winner_frame=pd.DataFrame()\n",
    "        winner_frame[\"match_id\"]=TRM[\"id\"]\n",
    "        winner_frame.index=winner_frame[\"match_id\"]\n",
    "        winner_frame[\"winner\"]=0\n",
    "        match_id_list=TRM[\"id\"].unique()\n",
    "\n",
    "        for m in match_id_list:\n",
    "            winner=TRM.loc[TRM['id']== m,\"winner\"].values[0]\n",
    "            temp=F_T.loc[m,\"Team A\":\"Team B\"]\n",
    "            team_dict=temp.to_dict()\n",
    "            if(winner==team_dict[\"Team A\"]):\n",
    "                winner_frame.at[m, 'winner'] = 0\n",
    "            elif(winner==team_dict[\"Team B\"]):\n",
    "                winner_frame.at[m,'winner']=1\n",
    "            \n",
    "        #Adding Winner Field to F_T\n",
    "        F_T[\"winner\"]=winner_frame[\"winner\"]\n",
    "        \n",
    "    return F_T\n",
    "        \n"
   ]
  },
  {
   "cell_type": "code",
   "execution_count": 20,
   "metadata": {
    "_cell_guid": "5ca38097-9189-4809-9bbb-5fddcee4832d",
    "_uuid": "547455460526eeaf20ac14d128d2163bb09ed800"
   },
   "outputs": [],
   "source": [
    "T=True\n",
    "train=df_feature(TRM,TRD,T)"
   ]
  },
  {
   "cell_type": "code",
   "execution_count": 21,
   "metadata": {
    "_cell_guid": "2419c96b-a1ae-40d3-81aa-f74f80e9c8af",
    "_uuid": "d2bbf9df02280fac8f2b463fde8900313aba4463"
   },
   "outputs": [
    {
     "data": {
      "text/html": [
       "<div>\n",
       "<style scoped>\n",
       "    .dataframe tbody tr th:only-of-type {\n",
       "        vertical-align: middle;\n",
       "    }\n",
       "\n",
       "    .dataframe tbody tr th {\n",
       "        vertical-align: top;\n",
       "    }\n",
       "\n",
       "    .dataframe thead th {\n",
       "        text-align: right;\n",
       "    }\n",
       "</style>\n",
       "<table border=\"1\" class=\"dataframe\">\n",
       "  <thead>\n",
       "    <tr style=\"text-align: right;\">\n",
       "      <th></th>\n",
       "      <th>match_id</th>\n",
       "      <th>Team A</th>\n",
       "      <th>Team B</th>\n",
       "      <th>season</th>\n",
       "      <th>toss_winner</th>\n",
       "      <th>dl_applied</th>\n",
       "      <th>Team_A_Batting_Average</th>\n",
       "      <th>Team_A_Bowling_Average</th>\n",
       "      <th>Team_A_Total_Runs</th>\n",
       "      <th>Team_B_Batting_Average</th>\n",
       "      <th>Team_B_Bowling_Average</th>\n",
       "      <th>Team_B_Total_Runs</th>\n",
       "      <th>Team_A_overall</th>\n",
       "      <th>Team_B_overall</th>\n",
       "      <th>super_over</th>\n",
       "      <th>winner</th>\n",
       "    </tr>\n",
       "    <tr>\n",
       "      <th>match_id</th>\n",
       "      <th></th>\n",
       "      <th></th>\n",
       "      <th></th>\n",
       "      <th></th>\n",
       "      <th></th>\n",
       "      <th></th>\n",
       "      <th></th>\n",
       "      <th></th>\n",
       "      <th></th>\n",
       "      <th></th>\n",
       "      <th></th>\n",
       "      <th></th>\n",
       "      <th></th>\n",
       "      <th></th>\n",
       "      <th></th>\n",
       "      <th></th>\n",
       "    </tr>\n",
       "  </thead>\n",
       "  <tbody>\n",
       "    <tr>\n",
       "      <th>1</th>\n",
       "      <td>1</td>\n",
       "      <td>Team1</td>\n",
       "      <td>Team5</td>\n",
       "      <td>2017</td>\n",
       "      <td>Team5</td>\n",
       "      <td>0</td>\n",
       "      <td>3.57</td>\n",
       "      <td>-0.250000</td>\n",
       "      <td>207.0</td>\n",
       "      <td>2.54</td>\n",
       "      <td>-1.835714</td>\n",
       "      <td>172.0</td>\n",
       "      <td>1.660000</td>\n",
       "      <td>0.352143</td>\n",
       "      <td>0</td>\n",
       "      <td>0</td>\n",
       "    </tr>\n",
       "    <tr>\n",
       "      <th>2</th>\n",
       "      <td>2</td>\n",
       "      <td>Team2</td>\n",
       "      <td>Team4</td>\n",
       "      <td>2017</td>\n",
       "      <td>Team4</td>\n",
       "      <td>0</td>\n",
       "      <td>2.82</td>\n",
       "      <td>-1.471429</td>\n",
       "      <td>184.0</td>\n",
       "      <td>3.25</td>\n",
       "      <td>-0.692857</td>\n",
       "      <td>187.0</td>\n",
       "      <td>0.674286</td>\n",
       "      <td>1.278571</td>\n",
       "      <td>0</td>\n",
       "      <td>1</td>\n",
       "    </tr>\n",
       "    <tr>\n",
       "      <th>3</th>\n",
       "      <td>3</td>\n",
       "      <td>Team3</td>\n",
       "      <td>Team6</td>\n",
       "      <td>2017</td>\n",
       "      <td>Team6</td>\n",
       "      <td>0</td>\n",
       "      <td>3.09</td>\n",
       "      <td>-2.064286</td>\n",
       "      <td>183.0</td>\n",
       "      <td>3.13</td>\n",
       "      <td>-1.121429</td>\n",
       "      <td>184.0</td>\n",
       "      <td>0.512857</td>\n",
       "      <td>1.004286</td>\n",
       "      <td>0</td>\n",
       "      <td>1</td>\n",
       "    </tr>\n",
       "    <tr>\n",
       "      <th>4</th>\n",
       "      <td>4</td>\n",
       "      <td>Team4</td>\n",
       "      <td>Team8</td>\n",
       "      <td>2017</td>\n",
       "      <td>Team8</td>\n",
       "      <td>0</td>\n",
       "      <td>2.59</td>\n",
       "      <td>-0.764286</td>\n",
       "      <td>163.0</td>\n",
       "      <td>2.48</td>\n",
       "      <td>-0.835714</td>\n",
       "      <td>164.0</td>\n",
       "      <td>0.912857</td>\n",
       "      <td>0.822143</td>\n",
       "      <td>0</td>\n",
       "      <td>1</td>\n",
       "    </tr>\n",
       "    <tr>\n",
       "      <th>5</th>\n",
       "      <td>5</td>\n",
       "      <td>Team5</td>\n",
       "      <td>Team7</td>\n",
       "      <td>2017</td>\n",
       "      <td>Team5</td>\n",
       "      <td>0</td>\n",
       "      <td>2.24</td>\n",
       "      <td>0.228571</td>\n",
       "      <td>157.0</td>\n",
       "      <td>1.96</td>\n",
       "      <td>0.042857</td>\n",
       "      <td>142.0</td>\n",
       "      <td>1.234286</td>\n",
       "      <td>1.001429</td>\n",
       "      <td>0</td>\n",
       "      <td>0</td>\n",
       "    </tr>\n",
       "    <tr>\n",
       "      <th>...</th>\n",
       "      <td>...</td>\n",
       "      <td>...</td>\n",
       "      <td>...</td>\n",
       "      <td>...</td>\n",
       "      <td>...</td>\n",
       "      <td>...</td>\n",
       "      <td>...</td>\n",
       "      <td>...</td>\n",
       "      <td>...</td>\n",
       "      <td>...</td>\n",
       "      <td>...</td>\n",
       "      <td>...</td>\n",
       "      <td>...</td>\n",
       "      <td>...</td>\n",
       "      <td>...</td>\n",
       "      <td>...</td>\n",
       "    </tr>\n",
       "    <tr>\n",
       "      <th>496</th>\n",
       "      <td>496</td>\n",
       "      <td>Team1</td>\n",
       "      <td>Team8</td>\n",
       "      <td>2014</td>\n",
       "      <td>Team8</td>\n",
       "      <td>0</td>\n",
       "      <td>3.18</td>\n",
       "      <td>-1.657143</td>\n",
       "      <td>205.0</td>\n",
       "      <td>3.70</td>\n",
       "      <td>-1.314286</td>\n",
       "      <td>211.0</td>\n",
       "      <td>0.761429</td>\n",
       "      <td>1.192857</td>\n",
       "      <td>0</td>\n",
       "      <td>1</td>\n",
       "    </tr>\n",
       "    <tr>\n",
       "      <th>497</th>\n",
       "      <td>497</td>\n",
       "      <td>Team2</td>\n",
       "      <td>Team6</td>\n",
       "      <td>2014</td>\n",
       "      <td>Team6</td>\n",
       "      <td>0</td>\n",
       "      <td>1.98</td>\n",
       "      <td>-0.378571</td>\n",
       "      <td>141.0</td>\n",
       "      <td>2.18</td>\n",
       "      <td>0.071429</td>\n",
       "      <td>142.0</td>\n",
       "      <td>0.800714</td>\n",
       "      <td>1.125714</td>\n",
       "      <td>0</td>\n",
       "      <td>1</td>\n",
       "    </tr>\n",
       "    <tr>\n",
       "      <th>498</th>\n",
       "      <td>498</td>\n",
       "      <td>Team9</td>\n",
       "      <td>Team7</td>\n",
       "      <td>2014</td>\n",
       "      <td>Team7</td>\n",
       "      <td>0</td>\n",
       "      <td>3.21</td>\n",
       "      <td>0.085714</td>\n",
       "      <td>201.0</td>\n",
       "      <td>1.84</td>\n",
       "      <td>-1.371429</td>\n",
       "      <td>139.0</td>\n",
       "      <td>1.647857</td>\n",
       "      <td>0.234286</td>\n",
       "      <td>0</td>\n",
       "      <td>0</td>\n",
       "    </tr>\n",
       "    <tr>\n",
       "      <th>499</th>\n",
       "      <td>499</td>\n",
       "      <td>Team10</td>\n",
       "      <td>Team5</td>\n",
       "      <td>2014</td>\n",
       "      <td>Team10</td>\n",
       "      <td>0</td>\n",
       "      <td>2.06</td>\n",
       "      <td>0.171429</td>\n",
       "      <td>138.0</td>\n",
       "      <td>1.89</td>\n",
       "      <td>-0.214286</td>\n",
       "      <td>142.0</td>\n",
       "      <td>1.115714</td>\n",
       "      <td>0.837857</td>\n",
       "      <td>0</td>\n",
       "      <td>1</td>\n",
       "    </tr>\n",
       "    <tr>\n",
       "      <th>500</th>\n",
       "      <td>500</td>\n",
       "      <td>Team1</td>\n",
       "      <td>Team6</td>\n",
       "      <td>2014</td>\n",
       "      <td>Team1</td>\n",
       "      <td>0</td>\n",
       "      <td>1.82</td>\n",
       "      <td>-0.414286</td>\n",
       "      <td>142.0</td>\n",
       "      <td>2.40</td>\n",
       "      <td>0.271429</td>\n",
       "      <td>146.0</td>\n",
       "      <td>0.702857</td>\n",
       "      <td>1.335714</td>\n",
       "      <td>0</td>\n",
       "      <td>1</td>\n",
       "    </tr>\n",
       "  </tbody>\n",
       "</table>\n",
       "<p>500 rows × 16 columns</p>\n",
       "</div>"
      ],
      "text/plain": [
       "          match_id  Team A Team B  season toss_winner  dl_applied  \\\n",
       "match_id                                                            \n",
       "1                1   Team1  Team5    2017       Team5           0   \n",
       "2                2   Team2  Team4    2017       Team4           0   \n",
       "3                3   Team3  Team6    2017       Team6           0   \n",
       "4                4   Team4  Team8    2017       Team8           0   \n",
       "5                5   Team5  Team7    2017       Team5           0   \n",
       "...            ...     ...    ...     ...         ...         ...   \n",
       "496            496   Team1  Team8    2014       Team8           0   \n",
       "497            497   Team2  Team6    2014       Team6           0   \n",
       "498            498   Team9  Team7    2014       Team7           0   \n",
       "499            499  Team10  Team5    2014      Team10           0   \n",
       "500            500   Team1  Team6    2014       Team1           0   \n",
       "\n",
       "          Team_A_Batting_Average  Team_A_Bowling_Average  Team_A_Total_Runs  \\\n",
       "match_id                                                                      \n",
       "1                           3.57               -0.250000              207.0   \n",
       "2                           2.82               -1.471429              184.0   \n",
       "3                           3.09               -2.064286              183.0   \n",
       "4                           2.59               -0.764286              163.0   \n",
       "5                           2.24                0.228571              157.0   \n",
       "...                          ...                     ...                ...   \n",
       "496                         3.18               -1.657143              205.0   \n",
       "497                         1.98               -0.378571              141.0   \n",
       "498                         3.21                0.085714              201.0   \n",
       "499                         2.06                0.171429              138.0   \n",
       "500                         1.82               -0.414286              142.0   \n",
       "\n",
       "          Team_B_Batting_Average  Team_B_Bowling_Average  Team_B_Total_Runs  \\\n",
       "match_id                                                                      \n",
       "1                           2.54               -1.835714              172.0   \n",
       "2                           3.25               -0.692857              187.0   \n",
       "3                           3.13               -1.121429              184.0   \n",
       "4                           2.48               -0.835714              164.0   \n",
       "5                           1.96                0.042857              142.0   \n",
       "...                          ...                     ...                ...   \n",
       "496                         3.70               -1.314286              211.0   \n",
       "497                         2.18                0.071429              142.0   \n",
       "498                         1.84               -1.371429              139.0   \n",
       "499                         1.89               -0.214286              142.0   \n",
       "500                         2.40                0.271429              146.0   \n",
       "\n",
       "          Team_A_overall  Team_B_overall super_over  winner  \n",
       "match_id                                                     \n",
       "1               1.660000        0.352143          0       0  \n",
       "2               0.674286        1.278571          0       1  \n",
       "3               0.512857        1.004286          0       1  \n",
       "4               0.912857        0.822143          0       1  \n",
       "5               1.234286        1.001429          0       0  \n",
       "...                  ...             ...        ...     ...  \n",
       "496             0.761429        1.192857          0       1  \n",
       "497             0.800714        1.125714          0       1  \n",
       "498             1.647857        0.234286          0       0  \n",
       "499             1.115714        0.837857          0       1  \n",
       "500             0.702857        1.335714          0       1  \n",
       "\n",
       "[500 rows x 16 columns]"
      ]
     },
     "execution_count": 21,
     "metadata": {},
     "output_type": "execute_result"
    }
   ],
   "source": [
    "train"
   ]
  },
  {
   "cell_type": "code",
   "execution_count": 22,
   "metadata": {
    "_cell_guid": "caa129ac-8cf8-4cc0-a54e-07f8d1398c18",
    "_uuid": "766417d3915542537ba4de3096d0988b99f8460e"
   },
   "outputs": [],
   "source": [
    "train_feature=[\"season\", \"dl_applied\",\n",
    "               \"Team_A_Batting_Average\", \"Team_A_Bowling_Average\",\n",
    "               \"Team_A_Total_Runs\",\n",
    "                \"Team_B_Batting_Average\", \"Team_B_Bowling_Average\",\n",
    "               \"Team_B_Total_Runs\",\n",
    "                \"Team_A_overall\",\"Team_B_overall\",\"super_over\"]\n",
    "\n",
    "\n",
    "ac=[]\n",
    "\n",
    "\n",
    "X_train, X_test, y_train, y_test = train_test_split(train[train_feature],train[\"winner\"], test_size = 0.2, random_state = 10)\n",
    "\n"
   ]
  },
  {
   "cell_type": "code",
   "execution_count": 23,
   "metadata": {
    "_cell_guid": "480bbbd5-7b0c-442e-947a-0dd878dddeb8",
    "_uuid": "72af63e90ed8e0727883efb615c6fc3c924e52e9"
   },
   "outputs": [
    {
     "name": "stdout",
     "output_type": "stream",
     "text": [
      "The accuracy using NB is: 91.0\n"
     ]
    }
   ],
   "source": [
    "\n",
    "model = GaussianNB()\n",
    "\n",
    "model.fit(X_train,y_train)\n",
    "\n",
    "\n",
    "predicted= model.predict(X_test)\n",
    "a = accuracy_score(y_test,predicted)\n",
    "ac.append(a*100)\n",
    "print('The accuracy using NB is:',format(a*100))\n",
    "\n"
   ]
  },
  {
   "cell_type": "code",
   "execution_count": 24,
   "metadata": {
    "_cell_guid": "a759d811-e3d4-4ed9-9b43-c80121924d80",
    "_uuid": "48b3716d9ea4b016500631e5206df2e1cfb0eb59"
   },
   "outputs": [
    {
     "name": "stdout",
     "output_type": "stream",
     "text": [
      "The accuracy using SVC Classifier is: 95.976\n"
     ]
    }
   ],
   "source": [
    "from model_utils.model_activation import *\n",
    "SVC_model = svm.SVC()\n",
    "\n",
    "\n",
    "SVC_model.fit(X_train, y_train)\n",
    "\n",
    "\n",
    "predicted= SVC_model.predict(X_test)\n",
    "ac.append(model_accuracy(predicted,test_sample,random_state)*100)\n",
    "print('The accuracy using SVC Classifier is:',format(ac[1]))\n",
    "\n"
   ]
  },
  {
   "cell_type": "code",
   "execution_count": 25,
   "metadata": {
    "_cell_guid": "c106c4fc-8341-418d-9bdc-8584345df319",
    "_uuid": "272b9a33060071a5e740b229aa9094e295a043bb"
   },
   "outputs": [
    {
     "name": "stdout",
     "output_type": "stream",
     "text": [
      "Accuracy of Naive Bayes is 91.0 and SVM is 95.976\n"
     ]
    },
    {
     "data": {
      "text/plain": [
       "(80.0, 100.0)"
      ]
     },
     "execution_count": 25,
     "metadata": {},
     "output_type": "execute_result"
    },
    {
     "data": {
      "image/png": "[encoded data removed]",
      "text/plain": [
       "<Figure size 432x288 with 1 Axes>"
      ]
     },
     "metadata": {},
     "output_type": "display_data"
    }
   ],
   "source": [
    "plt.style.use('ggplot')\n",
    "x=['Naive Bayes','SVM']\n",
    "y=ac\n",
    "import math\n",
    "ax=sns.barplot(x,y)\n",
    "ax.set_title('Efficiency comparison')\n",
    "ax.set_ylabel('Efficiency')\n",
    "#ax.yaxis.set_major_locator(ticker.LinearLocator())\n",
    "print(\"Accuracy of {} is {} and {} is {}\".format(x[0],ac[0],x[1],ac[1]))\n",
    "low = min(y)\n",
    "high = max(y)\n",
    "ax.set_ylim(80,100)"
   ]
  }
 ],
 "metadata": {
  "kernelspec": {
   "display_name": "Python 3",
   "language": "python",
   "name": "python3"
  },
  "language_info": {
   "codemirror_mode": {
    "name": "ipython",
    "version": 3
   },
   "file_extension": ".py",
   "mimetype": "text/x-python",
   "name": "python",
   "nbconvert_exporter": "python",
   "pygments_lexer": "ipython3",
   "version": "3.9.5"
  }
 },
 "nbformat": 4,
 "nbformat_minor": 1
}
